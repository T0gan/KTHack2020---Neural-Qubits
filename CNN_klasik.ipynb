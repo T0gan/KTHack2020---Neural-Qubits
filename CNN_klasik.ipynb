{
  "nbformat": 4,
  "nbformat_minor": 0,
  "metadata": {
    "colab": {
      "name": "CNN_klasik.ipynb",
      "provenance": [],
      "authorship_tag": "ABX9TyP812k3ekszLWFKZbjAHOF1",
      "include_colab_link": true
    },
    "kernelspec": {
      "name": "python3",
      "display_name": "Python 3"
    }
  },
  "cells": [
    {
      "cell_type": "markdown",
      "metadata": {
        "id": "view-in-github",
        "colab_type": "text"
      },
      "source": [
        "<a href=\"https://colab.research.google.com/github/T0gan/KTHack2020-Neural-Qubits/blob/main/CNN_klasik.ipynb\" target=\"_parent\"><img src=\"https://colab.research.google.com/assets/colab-badge.svg\" alt=\"Open In Colab\"/></a>"
      ]
    },
    {
      "cell_type": "code",
      "metadata": {
        "id": "A9F3UukHjJ4W"
      },
      "source": [
        "import tensorflow as tf \n",
        "import matplotlib.pyplot as plt \n",
        "\n",
        "\n",
        "from tensorflow.keras import datasets, layers, models\n",
        "import matplotlib.pyplot as plt\n",
        "import numpy as np"
      ],
      "execution_count": 3,
      "outputs": []
    },
    {
      "cell_type": "code",
      "metadata": {
        "id": "1kYHkZIKjHmM",
        "outputId": "c2414757-3bc3-4860-9a6f-664705ce3803",
        "colab": {
          "base_uri": "https://localhost:8080/",
          "height": 333
        }
      },
      "source": [
        "#import data\n",
        "import collections\n",
        "\n",
        "(x_train, y_train), (x_test, y_test) = datasets.mnist.load_data()\n",
        "\n",
        "# Rescale the images from [0,255] to the [0.0,1.0] range.\n",
        "x_train, x_test = x_train[..., np.newaxis]/255.0, x_test[..., np.newaxis]/255.0\n",
        "\n",
        "print(\"Number of original training examples:\", len(x_train))\n",
        "print(\"Number of original test examples:\", len(x_test))\n",
        "\n",
        "#Take only images of 3 and 6\n",
        "def filter_36(x, y):\n",
        "    keep = (y == 1) | (y == 0)\n",
        "    x, y = x[keep], y[keep]\n",
        "    y = y == 1\n",
        "    return x,y\n",
        "\n",
        "x_train, y_train = filter_36(x_train, y_train)\n",
        "x_test, y_test = filter_36(x_test, y_test)\n",
        "\n",
        "print(\"Number of filtered training examples:\", len(x_train))\n",
        "print(\"Number of filtered test examples:\", len(x_test))\n",
        "\n",
        "x_train_small = tf.image.resize(x_train, (6,6)).numpy()\n",
        "x_test_small = tf.image.resize(x_test, (6,6)).numpy()\n",
        "\n",
        "def convert_label(y):\n",
        "  if y==True:\n",
        "    return 1.0\n",
        "  else: \n",
        "    return -1.0\n",
        "\n",
        "y_train=[convert_label(y) for y in y_train]\n",
        "y_test=[convert_label(y) for y in y_test]\n",
        "\n",
        "plt.imshow(x_train_small[0,:,:,0], vmin=0, vmax=1)\n",
        "plt.colorbar()\n",
        "\n",
        "\n",
        "X_train=x_train_small[:100]\n",
        "X_test=x_test_small[:20]\n",
        "Y_train=y_train[:100]\n",
        "Y_test=y_test[:20]\n",
        "\n",
        "\n",
        "x_train_4=X_train[:,1:5,1:5]\n",
        "x_test_4=X_test[:,1:5,1:5]"
      ],
      "execution_count": 4,
      "outputs": [
        {
          "output_type": "stream",
          "text": [
            "Number of original training examples: 60000\n",
            "Number of original test examples: 10000\n",
            "Number of filtered training examples: 12665\n",
            "Number of filtered test examples: 2115\n"
          ],
          "name": "stdout"
        },
        {
          "output_type": "display_data",
          "data": {
            "image/png": "[encoded data removed]",
            "text/plain": [
              "<Figure size 432x288 with 2 Axes>"
            ]
          },
          "metadata": {
            "tags": [],
            "needs_background": "light"
          }
        }
      ]
    },
    {
      "cell_type": "code",
      "metadata": {
        "id": "AnaXE8s4jUoo"
      },
      "source": [
        "cnn=tf.keras.Sequential()\n",
        "cnn.add(layers.Conv2D(1,(2,2), input_shape=(4,4,1), strides=(2,2)))\n",
        "cnn.add(layers.Conv2D(1,(2,2)))\n",
        "cnn.add(layers.Flatten())\n",
        "\n"
      ],
      "execution_count": 33,
      "outputs": []
    },
    {
      "cell_type": "code",
      "metadata": {
        "id": "pcPJloxIjfmG",
        "outputId": "bd786f1e-30ad-4ede-9a2c-b6fbaf24e205",
        "colab": {
          "base_uri": "https://localhost:8080/",
          "height": 245
        }
      },
      "source": [
        "cnn.summary()"
      ],
      "execution_count": 34,
      "outputs": [
        {
          "output_type": "stream",
          "text": [
            "Model: \"sequential_10\"\n",
            "_________________________________________________________________\n",
            "Layer (type)                 Output Shape              Param #   \n",
            "=================================================================\n",
            "conv2d_16 (Conv2D)           (None, 2, 2, 1)           5         \n",
            "_________________________________________________________________\n",
            "conv2d_17 (Conv2D)           (None, 1, 1, 1)           5         \n",
            "_________________________________________________________________\n",
            "flatten_2 (Flatten)          (None, 1)                 0         \n",
            "=================================================================\n",
            "Total params: 10\n",
            "Trainable params: 10\n",
            "Non-trainable params: 0\n",
            "_________________________________________________________________\n"
          ],
          "name": "stdout"
        }
      ]
    },
    {
      "cell_type": "code",
      "metadata": {
        "id": "rBG3Uz6nm2CT",
        "outputId": "ceaff174-9ea9-45a0-ef03-4e9ee2e9ee83",
        "colab": {
          "base_uri": "https://localhost:8080/",
          "height": 422
        }
      },
      "source": [
        "tf.keras.utils.plot_model(cnn, show_shapes=True)"
      ],
      "execution_count": 41,
      "outputs": [
        {
          "output_type": "execute_result",
          "data": {
            "image/png": "[encoded data removed]",
            "text/plain": [
              "<IPython.core.display.Image object>"
            ]
          },
          "metadata": {
            "tags": []
          },
          "execution_count": 41
        }
      ]
    },
    {
      "cell_type": "code",
      "metadata": {
        "id": "89M03bHQlGag"
      },
      "source": [
        "def hinge_accuracy(y_true, y_pred):\n",
        "    y_true = tf.squeeze(y_true) > 0.0\n",
        "    y_pred = tf.squeeze(y_pred) > 0.0\n",
        "    result = tf.cast(y_true == y_pred, tf.float32)\n",
        "\n",
        "    return tf.reduce_mean(result)\n",
        "\n",
        "\n"
      ],
      "execution_count": 35,
      "outputs": []
    },
    {
      "cell_type": "code",
      "metadata": {
        "id": "hFXyursTlixu"
      },
      "source": [
        "cnn.compile(optimizer=tf.keras.optimizers.Adam(), loss=tf.losses.Hinge(), metrics=[hinge_accuracy])\n"
      ],
      "execution_count": 36,
      "outputs": []
    },
    {
      "cell_type": "code",
      "metadata": {
        "id": "l6ilYHUclsu5",
        "outputId": "fc047529-2190-465e-8c88-174c5cafbd09",
        "colab": {
          "base_uri": "https://localhost:8080/",
          "height": 850
        }
      },
      "source": [
        "history=cnn.fit(x=x_train_4, y=np.asarray(Y_train), batch_size=16, epochs=25, verbose=1, validation_data=(x_test_4, np.asarray(Y_test)))"
      ],
      "execution_count": 37,
      "outputs": [
        {
          "output_type": "stream",
          "text": [
            "Epoch 1/25\n",
            "7/7 [==============================] - 0s 21ms/step - loss: 1.0110 - hinge_accuracy: 0.5000 - val_loss: 1.0738 - val_hinge_accuracy: 0.5938\n",
            "Epoch 2/25\n",
            "7/7 [==============================] - 0s 4ms/step - loss: 1.0020 - hinge_accuracy: 0.5625 - val_loss: 1.0669 - val_hinge_accuracy: 0.5938\n",
            "Epoch 3/25\n",
            "7/7 [==============================] - 0s 4ms/step - loss: 0.9934 - hinge_accuracy: 0.5714 - val_loss: 1.0601 - val_hinge_accuracy: 0.6250\n",
            "Epoch 4/25\n",
            "7/7 [==============================] - 0s 5ms/step - loss: 0.9848 - hinge_accuracy: 0.5268 - val_loss: 1.0533 - val_hinge_accuracy: 0.6250\n",
            "Epoch 5/25\n",
            "7/7 [==============================] - 0s 4ms/step - loss: 0.9759 - hinge_accuracy: 0.5357 - val_loss: 1.0464 - val_hinge_accuracy: 0.6250\n",
            "Epoch 6/25\n",
            "7/7 [==============================] - 0s 4ms/step - loss: 0.9667 - hinge_accuracy: 0.5893 - val_loss: 1.0394 - val_hinge_accuracy: 0.6562\n",
            "Epoch 7/25\n",
            "7/7 [==============================] - 0s 4ms/step - loss: 0.9576 - hinge_accuracy: 0.5893 - val_loss: 1.0325 - val_hinge_accuracy: 0.6562\n",
            "Epoch 8/25\n",
            "7/7 [==============================] - 0s 4ms/step - loss: 0.9485 - hinge_accuracy: 0.6161 - val_loss: 1.0255 - val_hinge_accuracy: 0.6875\n",
            "Epoch 9/25\n",
            "7/7 [==============================] - 0s 4ms/step - loss: 0.9390 - hinge_accuracy: 0.6161 - val_loss: 1.0185 - val_hinge_accuracy: 0.6875\n",
            "Epoch 10/25\n",
            "7/7 [==============================] - 0s 5ms/step - loss: 0.9299 - hinge_accuracy: 0.6161 - val_loss: 1.0113 - val_hinge_accuracy: 0.6875\n",
            "Epoch 11/25\n",
            "7/7 [==============================] - 0s 5ms/step - loss: 0.9201 - hinge_accuracy: 0.6518 - val_loss: 1.0042 - val_hinge_accuracy: 0.6875\n",
            "Epoch 12/25\n",
            "7/7 [==============================] - 0s 4ms/step - loss: 0.9106 - hinge_accuracy: 0.6250 - val_loss: 0.9970 - val_hinge_accuracy: 0.6875\n",
            "Epoch 13/25\n",
            "7/7 [==============================] - 0s 4ms/step - loss: 0.9008 - hinge_accuracy: 0.6339 - val_loss: 0.9899 - val_hinge_accuracy: 0.6875\n",
            "Epoch 14/25\n",
            "7/7 [==============================] - 0s 4ms/step - loss: 0.8914 - hinge_accuracy: 0.6339 - val_loss: 0.9826 - val_hinge_accuracy: 0.6875\n",
            "Epoch 15/25\n",
            "7/7 [==============================] - 0s 4ms/step - loss: 0.8815 - hinge_accuracy: 0.6429 - val_loss: 0.9752 - val_hinge_accuracy: 0.6875\n",
            "Epoch 16/25\n",
            "7/7 [==============================] - 0s 4ms/step - loss: 0.8716 - hinge_accuracy: 0.6696 - val_loss: 0.9680 - val_hinge_accuracy: 0.6875\n",
            "Epoch 17/25\n",
            "7/7 [==============================] - 0s 4ms/step - loss: 0.8623 - hinge_accuracy: 0.6518 - val_loss: 0.9606 - val_hinge_accuracy: 0.6875\n",
            "Epoch 18/25\n",
            "7/7 [==============================] - 0s 4ms/step - loss: 0.8525 - hinge_accuracy: 0.6696 - val_loss: 0.9531 - val_hinge_accuracy: 0.6875\n",
            "Epoch 19/25\n",
            "7/7 [==============================] - 0s 5ms/step - loss: 0.8425 - hinge_accuracy: 0.7232 - val_loss: 0.9454 - val_hinge_accuracy: 0.6875\n",
            "Epoch 20/25\n",
            "7/7 [==============================] - 0s 4ms/step - loss: 0.8325 - hinge_accuracy: 0.6429 - val_loss: 0.9375 - val_hinge_accuracy: 0.6875\n",
            "Epoch 21/25\n",
            "7/7 [==============================] - 0s 4ms/step - loss: 0.8218 - hinge_accuracy: 0.6696 - val_loss: 0.9295 - val_hinge_accuracy: 0.6875\n",
            "Epoch 22/25\n",
            "7/7 [==============================] - 0s 4ms/step - loss: 0.8114 - hinge_accuracy: 0.7232 - val_loss: 0.9214 - val_hinge_accuracy: 0.7188\n",
            "Epoch 23/25\n",
            "7/7 [==============================] - 0s 4ms/step - loss: 0.8007 - hinge_accuracy: 0.6696 - val_loss: 0.9132 - val_hinge_accuracy: 0.7500\n",
            "Epoch 24/25\n",
            "7/7 [==============================] - 0s 5ms/step - loss: 0.7899 - hinge_accuracy: 0.6875 - val_loss: 0.9050 - val_hinge_accuracy: 0.7500\n",
            "Epoch 25/25\n",
            "7/7 [==============================] - 0s 4ms/step - loss: 0.7794 - hinge_accuracy: 0.7500 - val_loss: 0.8968 - val_hinge_accuracy: 0.7500\n"
          ],
          "name": "stdout"
        }
      ]
    },
    {
      "cell_type": "code",
      "metadata": {
        "id": "C4hsyPd4mhkc",
        "outputId": "ff2c6293-42f3-48d5-e48d-019a44c68117",
        "colab": {
          "base_uri": "https://localhost:8080/",
          "height": 278
        }
      },
      "source": [
        "plt.plot(history.history['hinge_accuracy'], label='QCNN')\n",
        "#plt.plot(hybrid_history.history['val_custom_accuracy'], label='Hybrid CNN')\n",
        "#plt.title('Quantum vs Hybrid CNN performance')\n",
        "plt.xlabel('Epochs')\n",
        "plt.legend()\n",
        "plt.ylabel('Validation Accuracy')\n",
        "plt.show()"
      ],
      "execution_count": 38,
      "outputs": [
        {
          "output_type": "display_data",
          "data": {
            "image/png": "[encoded data removed]",
            "text/plain": [
              "<Figure size 432x288 with 1 Axes>"
            ]
          },
          "metadata": {
            "tags": [],
            "needs_background": "light"
          }
        }
      ]
    },
    {
      "cell_type": "code",
      "metadata": {
        "id": "qyhmMPxem8Vg"
      },
      "source": [
        ""
      ],
      "execution_count": null,
      "outputs": []
    }
  ]
}