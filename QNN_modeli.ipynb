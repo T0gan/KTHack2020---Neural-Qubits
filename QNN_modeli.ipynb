{
  "nbformat": 4,
  "nbformat_minor": 0,
  "metadata": {
    "colab": {
      "name": "QNN_modeli.ipynb",
      "provenance": [],
      "collapsed_sections": []
    },
    "kernelspec": {
      "display_name": "Python 3",
      "name": "python3"
    }
  },
  "cells": [
    {
      "cell_type": "code",
      "metadata": {
        "id": "gM9yit--MZVx",
        "outputId": "bd63ed30-6574-4a55-900e-7a1a15fa0ce9",
        "colab": {
          "base_uri": "https://localhost:8080/",
          "height": 85
        }
      },
      "source": [
        "# Tensorflow'u ve kuantum kütüphanesi indirmemiz gerekiyor.\n",
        "# (colab içindir, bilgisayarınızda kuruluysa bu kısmı silin)\n",
        "!pip install -q tensorflow==2.3.1\n",
        "!pip install -q tensorflow-quantum"
      ],
      "execution_count": 1,
      "outputs": [
        {
          "output_type": "stream",
          "text": [
            "\u001b[K     |████████████████████████████████| 320.4MB 45kB/s \n",
            "\u001b[K     |████████████████████████████████| 5.9MB 1.6MB/s \n",
            "\u001b[K     |████████████████████████████████| 1.6MB 33.1MB/s \n",
            "\u001b[K     |████████████████████████████████| 5.6MB 27.1MB/s \n",
            "\u001b[?25h"
          ],
          "name": "stdout"
        }
      ]
    },
    {
      "cell_type": "markdown",
      "metadata": {
        "id": "ZNWbG1kdzNzK"
      },
      "source": [
        "# 1) Kütüphanelerin Eklenmesi"
      ]
    },
    {
      "cell_type": "code",
      "metadata": {
        "id": "Y9oNmdWGMllT"
      },
      "source": [
        "# Kullanılacak kütüphaneleri import edelim.\n",
        "import tensorflow as tf\n",
        "import tensorflow_quantum as tfq\n",
        "\n",
        "from cirq.contrib.svg import SVGCircuit\n",
        "import cirq\n",
        "\n",
        "import sympy\n",
        "import numpy as np\n",
        "\n",
        "%matplotlib inline\n",
        "from matplotlib.gridspec import GridSpec\n",
        "import matplotlib.pyplot as plt"
      ],
      "execution_count": 2,
      "outputs": []
    },
    {
      "cell_type": "markdown",
      "metadata": {
        "id": "qNGv3lL1zYSE"
      },
      "source": [
        "# 2) Verisetinin Hazırlanması"
      ]
    },
    {
      "cell_type": "code",
      "metadata": {
        "id": "4S8zMpfKNWYh",
        "outputId": "a753ee12-1950-4b8f-e96a-f6bf85ec7e32",
        "colab": {
          "base_uri": "https://localhost:8080/",
          "height": 85
        }
      },
      "source": [
        "# Notebook'ta keras içindeki hazır verisetlerinden olan MNIST veriseti kullanılacak.\n",
        "# Önce verileri eğitim ve test olmak üzere ayıralım.\n",
        "(x_train, y_train), (x_test, y_test) = tf.keras.datasets.mnist.load_data()\n",
        "\n",
        "# Verilerimizin olduğu listeye ekstra bir dimension ekledik.\n",
        "# (ilgili link: https://stackoverflow.com/questions/29241056/how-does-numpy-newaxis-work-and-when-to-use-it)\n",
        "# Ve tüm pikselleri [0, 255] aralığından [0.0, 1.0] aralığına dönüştürülerek normalize ettik.\n",
        "# (resmimiz gri skalada olduğu için piksel değerleri [0, 255] aralığındadır)\n",
        "x_train = x_train[..., np.newaxis]/255.0\n",
        "x_test = x_test[..., np.newaxis]/255.0\n",
        "\n",
        "print(\"Verisetindeki eğitim resmi sayısı:\", len(x_train))\n",
        "print(\"Verisetindeki test resmi sayısı  :\", len(x_test))"
      ],
      "execution_count": 3,
      "outputs": [
        {
          "output_type": "stream",
          "text": [
            "Downloading data from https://storage.googleapis.com/tensorflow/tf-keras-datasets/mnist.npz\n",
            "11493376/11490434 [==============================] - 0s 0us/step\n",
            "Verisetindeki eğitim resmi sayısı: 60000\n",
            "Verisetindeki test resmi sayısı  : 10000\n"
          ],
          "name": "stdout"
        }
      ]
    },
    {
      "cell_type": "code",
      "metadata": {
        "id": "j26rtawzN1sj"
      },
      "source": [
        "# Bu fonksiyon verisetindeki 10 sınıfı (0-9), sadece 3 ve 6 rakamı olacak şekilde 2 sınıfa indirger\n",
        "def filtre_3_ve_6_sinifi(x, y):\n",
        "    # Eğitim ve test verisetinin etiketleri için filtre uyguladık\n",
        "    # `np.where` 3 ve 6 etiketlerinin bulunduğu indekslerin listesini döndürür.\n",
        "    # Bu listeyi x ve y listelerine verdiğimizde 3 ve 6 etiketine sahip verileri elde ederiz.\n",
        "    x = x[np.where((y == 3) | (y == 6))]\n",
        "    y = y[np.where((y == 3) | (y == 6))]\n",
        "\n",
        "    # Etiket listesine son bir işlem uygulayıp 3 olan değerleri True, 6 olanları False yaparız.\n",
        "    # Yani sınıflandırma sonucunda True çıkarsa o resmin 6 olarak tahmin edildiği anlamına gelir.\n",
        "    y = y == 3\n",
        "\n",
        "    return x,y"
      ],
      "execution_count": 4,
      "outputs": []
    },
    {
      "cell_type": "code",
      "metadata": {
        "id": "LHeuYYHCQgS4",
        "outputId": "c4c9273c-853a-4fb1-dce1-481b3d58739a",
        "colab": {
          "base_uri": "https://localhost:8080/",
          "height": 51
        }
      },
      "source": [
        "# Sadece 3 ve 6 sınıfının bulunduğu yeni listemizi elde ederiz.\n",
        "x_train, y_train = filtre_3_ve_6_sinifi(x_train, y_train)\n",
        "x_test, y_test = filtre_3_ve_6_sinifi(x_test, y_test)\n",
        "\n",
        "print(\"Filtrelenmiş eğitim resmi sayısı:\", len(x_train))\n",
        "print(\"Filtrelenmiş test resmi sayısı:\", len(x_test))"
      ],
      "execution_count": 5,
      "outputs": [
        {
          "output_type": "stream",
          "text": [
            "Filtrelenmiş eğitim resmi sayısı: 12049\n",
            "Filtrelenmiş test resmi sayısı: 1968\n"
          ],
          "name": "stdout"
        }
      ]
    },
    {
      "cell_type": "code",
      "metadata": {
        "id": "zEpHNeEIUfXo",
        "outputId": "60dae1a5-dcd7-44c1-85ad-1e98872e7cb8",
        "colab": {
          "base_uri": "https://localhost:8080/",
          "height": 286
        }
      },
      "source": [
        "# Eğitim verisetimizdeki ilk resme göz atalım.\n",
        "# Diğer resimlere bakmak için liste içerisindeki ilk sayıyı değiştirmemiz yeterli.\n",
        "plt.imshow(x_train[0, :, :, 0], vmin=0, vmax=1, cmap=plt.get_cmap(\"binary\"))\n",
        "plt.colorbar()"
      ],
      "execution_count": 6,
      "outputs": [
        {
          "output_type": "execute_result",
          "data": {
            "text/plain": [
              "<matplotlib.colorbar.Colorbar at 0x7f3c1edb64e0>"
            ]
          },
          "metadata": {
            "tags": []
          },
          "execution_count": 6
        },
        {
          "output_type": "display_data",
          "data": {
            "image/png": "[encoded data removed]",
            "text/plain": [
              "<Figure size 432x288 with 2 Axes>"
            ]
          },
          "metadata": {
            "tags": [],
            "needs_background": "light"
          }
        }
      ]
    },
    {
      "cell_type": "code",
      "metadata": {
        "id": "BcTwLNiMVwfN"
      },
      "source": [
        "# MNIST verisetindeki resimler 28x28 pikseldir.\n",
        "# Kuantum programlamada kullanılacak kübit sayısındaki bazı sınırlardan dolayı,\n",
        "# resimlerimizin boyutunu 3x3 piksele düşüreceğiz.\n",
        "x_train_small = tf.image.resize(x_train, (3, 3))\n",
        "x_test_small = tf.image.resize(x_test, (3, 3))"
      ],
      "execution_count": 7,
      "outputs": []
    },
    {
      "cell_type": "code",
      "metadata": {
        "id": "RuY4xOyBXxRF",
        "outputId": "2f8e2a2e-14e5-4305-d837-37ced13e9a58",
        "colab": {
          "base_uri": "https://localhost:8080/",
          "height": 34
        }
      },
      "source": [
        "x_train_small.shape"
      ],
      "execution_count": 8,
      "outputs": [
        {
          "output_type": "execute_result",
          "data": {
            "text/plain": [
              "TensorShape([12049, 3, 3, 1])"
            ]
          },
          "metadata": {
            "tags": []
          },
          "execution_count": 8
        }
      ]
    },
    {
      "cell_type": "code",
      "metadata": {
        "id": "6d1rd2HtWhkl",
        "outputId": "9a2b8eb1-d949-4ff1-8d3e-aa3ddfaf8737",
        "colab": {
          "base_uri": "https://localhost:8080/",
          "height": 286
        }
      },
      "source": [
        "# Az önce baktığımız resmin 3x3 haline göz atalım.\n",
        "plt.imshow(x_train_small[0,:,:,0], vmin=0, vmax=1, cmap=plt.get_cmap(\"binary\"))\n",
        "plt.colorbar()"
      ],
      "execution_count": 9,
      "outputs": [
        {
          "output_type": "execute_result",
          "data": {
            "text/plain": [
              "<matplotlib.colorbar.Colorbar at 0x7f3c1e8e5240>"
            ]
          },
          "metadata": {
            "tags": []
          },
          "execution_count": 9
        },
        {
          "output_type": "display_data",
          "data": {
            "image/png": "[encoded data removed]",
            "text/plain": [
              "<Figure size 432x288 with 2 Axes>"
            ]
          },
          "metadata": {
            "tags": [],
            "needs_background": "light"
          }
        }
      ]
    },
    {
      "cell_type": "code",
      "metadata": {
        "id": "YAMtqZClXj43"
      },
      "source": [
        "# [0, 1] aralığına daralttığımız resimlerimizdeki pikseller 0.5 ten büyük ise 1,\n",
        "# küçük ise 0 olarak yeniden etiketleriz. 255 aralığı olsaydı piksellerimizi\n",
        "# 8 bit ile temsil etmemiz gerekirdi, ancak 0 ve 1 değerleri 1 bit ile ifade edilebilir.\n",
        "# Yani her pikseli 1 kübit ile ifade edebiliriz.\n",
        "THRESHOLD = 0.5\n",
        "\n",
        "x_train_bin = np.array(x_train_small > THRESHOLD, dtype=np.float32)\n",
        "x_test_bin = np.array(x_test_small > THRESHOLD, dtype=np.float32)"
      ],
      "execution_count": 10,
      "outputs": []
    },
    {
      "cell_type": "code",
      "metadata": {
        "id": "G-NNcglSZihd",
        "outputId": "d2be404a-d6c6-4ca9-d561-41af4eda0907",
        "colab": {
          "base_uri": "https://localhost:8080/",
          "height": 68
        }
      },
      "source": [
        "# Az önce kullandığımız resmi ele alalaım ve resmimizdeki piksellerin değerlerini yazdıralım.\n",
        "print('\\n'.join('  '.join(str(x[0]) for x in row) for row in x_train_bin[0]))"
      ],
      "execution_count": 11,
      "outputs": [
        {
          "output_type": "stream",
          "text": [
            "0.0  0.0  0.0\n",
            "0.0  1.0  0.0\n",
            "0.0  1.0  0.0\n"
          ],
          "name": "stdout"
        }
      ]
    },
    {
      "cell_type": "markdown",
      "metadata": {
        "id": "hvtlIHUKzoUu"
      },
      "source": [
        "# 3) Resimlerin Kuantum Devrelerine Kodlanması"
      ]
    },
    {
      "cell_type": "code",
      "metadata": {
        "id": "HZC-6p6laDbA"
      },
      "source": [
        "# Resimlerimizi kuantum programlamada kullanabilmek için kübitler ile ifade etmeliyiz.\n",
        "# Kübitler başlangıçta 0 değerindedirler. Her resmin piksel değerini tutabilmek için\n",
        "# bu kübitleri devreden geçirmeliyiz. Dolayısıyla tüm resimler için birer devre oluştururuz.\n",
        "# Bu fonksiyon parametre olarak verilen resmin kuantum devresine kodlar.\n",
        "def convert_to_circuit(image):\n",
        "    values = np.ndarray.flatten(image)\n",
        "    qubits = cirq.GridQubit.rect(3, 3)\n",
        "    circuit = cirq.Circuit()\n",
        "    for i, value in enumerate(values):\n",
        "        if value:\n",
        "            circuit.append(cirq.X(qubits[i]))\n",
        "    return circuit"
      ],
      "execution_count": 12,
      "outputs": []
    },
    {
      "cell_type": "code",
      "metadata": {
        "id": "XTlEtn8kbe0i"
      },
      "source": [
        "# Elimizdeki tüm resimlerin kuantum devrelerini oluştururuz ve listede toplarız.\n",
        "\n",
        "x_train_circ = [convert_to_circuit(x) for x in x_train_bin]\n",
        "x_test_circ = [convert_to_circuit(x) for x in x_test_bin]"
      ],
      "execution_count": 13,
      "outputs": []
    },
    {
      "cell_type": "code",
      "metadata": {
        "id": "6rkByKYFbfJi",
        "outputId": "fb60a931-b49c-488d-c66a-eb51f12087c3",
        "colab": {
          "base_uri": "https://localhost:8080/",
          "height": 138
        }
      },
      "source": [
        "# Notebookta örnek olarak kullandığımız eğitim setindeki ilk resmin devresi şu şekildedir:\n",
        "SVGCircuit(x_train_circ[0])"
      ],
      "execution_count": 14,
      "outputs": [
        {
          "output_type": "stream",
          "text": [
            "findfont: Font family ['Arial'] not found. Falling back to DejaVu Sans.\n"
          ],
          "name": "stderr"
        },
        {
          "output_type": "execute_result",
          "data": {
            "text/plain": [
              "<cirq.contrib.svg.svg.SVGCircuit at 0x7f3c1e82e160>"
            ],
            "image/svg+xml": "<svg xmlns=\"http://www.w3.org/2000/svg\" width=\"169.517734375\" height=\"100.0\"><line x1=\"34.7588671875\" x2=\"139.517734375\" y1=\"25.0\" y2=\"25.0\" stroke=\"#1967d2\" stroke-width=\"1\" /><line x1=\"34.7588671875\" x2=\"139.517734375\" y1=\"75.0\" y2=\"75.0\" stroke=\"#1967d2\" stroke-width=\"1\" /><rect x=\"10.0\" y=\"5.0\" width=\"49.517734375\" height=\"40\" stroke=\"black\" fill=\"white\" stroke-width=\"0\" /><text x=\"34.7588671875\" y=\"25.0\" dominant-baseline=\"middle\" text-anchor=\"middle\" font-size=\"14px\" font-family=\"Arial\">(1, 1): </text><rect x=\"10.0\" y=\"55.0\" width=\"49.517734375\" height=\"40\" stroke=\"black\" fill=\"white\" stroke-width=\"0\" /><text x=\"34.7588671875\" y=\"75.0\" dominant-baseline=\"middle\" text-anchor=\"middle\" font-size=\"14px\" font-family=\"Arial\">(2, 1): </text><rect x=\"79.517734375\" y=\"5.0\" width=\"40\" height=\"40\" stroke=\"black\" fill=\"white\" stroke-width=\"1\" /><text x=\"99.517734375\" y=\"25.0\" dominant-baseline=\"middle\" text-anchor=\"middle\" font-size=\"18px\" font-family=\"Arial\">X</text><rect x=\"79.517734375\" y=\"55.0\" width=\"40\" height=\"40\" stroke=\"black\" fill=\"white\" stroke-width=\"1\" /><text x=\"99.517734375\" y=\"75.0\" dominant-baseline=\"middle\" text-anchor=\"middle\" font-size=\"18px\" font-family=\"Arial\">X</text></svg>"
          },
          "metadata": {
            "tags": []
          },
          "execution_count": 14
        }
      ]
    },
    {
      "cell_type": "code",
      "metadata": {
        "id": "K3e7XKX2cJ7w"
      },
      "source": [
        "# Tüm devreleri bir tensöre çeviririz ve onları da listede saklarız.\n",
        "\n",
        "x_train_tfcirc = tfq.convert_to_tensor(x_train_circ)\n",
        "x_test_tfcirc = tfq.convert_to_tensor(x_test_circ)"
      ],
      "execution_count": 15,
      "outputs": []
    },
    {
      "cell_type": "markdown",
      "metadata": {
        "id": "fX6e7zJQz0Wv"
      },
      "source": [
        "# 4) Kuantum Modelinin İnşa Edilmesi"
      ]
    },
    {
      "cell_type": "code",
      "metadata": {
        "id": "O2XRaQuucgcS"
      },
      "source": [
        "# Bu sınıf, modelimizin katmanlarını türeteceğimiz sınıftır.\n",
        "# Kübitleri ve readout parametreleri alır.\n",
        "class CircuitLayerBuilder():\n",
        "    def __init__(self, data_qubits, readout):\n",
        "        self.data_qubits = data_qubits\n",
        "        self.readout = readout\n",
        "    \n",
        "    def add_layer(self, circuit, gate, prefix):\n",
        "        for i, qubit in enumerate(self.data_qubits):\n",
        "            symbol = sympy.Symbol(prefix + '-' + str(i))\n",
        "            circuit.append(gate(qubit, self.readout)**symbol)"
      ],
      "execution_count": 16,
      "outputs": []
    },
    {
      "cell_type": "code",
      "metadata": {
        "id": "OV_I3iZNdKvx"
      },
      "source": [
        "# Bu fonksiyon, kuantum modelini oluşturur.\n",
        "# Modeldeki kübit sayısı veri devrelerindekiyle aynı olmalıdır.\n",
        "# Ardından ekstra bir readout kübiti oluşturururuz. Bu kübit\n",
        "# resmimiz için yaptığımız tahminin sonucunu tutacaktır.\n",
        "\n",
        "def create_quantum_model():\n",
        "    data_qubits = cirq.GridQubit.rect(3, 3)\n",
        "    readout = cirq.GridQubit(-1, -1)\n",
        "    circuit = cirq.Circuit()\n",
        "    \n",
        "    # readout kübitini hazırlıyoruz.\n",
        "    circuit.append(cirq.X(readout))\n",
        "    circuit.append(cirq.H(readout))\n",
        "    \n",
        "    # Devre katmanı oluşturucumuzdan bir nesne üretiyoruz,\n",
        "    # ve nesnemize tüm kübitlerimizi tanımlıyoruz.\n",
        "    builder = CircuitLayerBuilder(\n",
        "        data_qubits = data_qubits,\n",
        "        readout=readout)\n",
        "\n",
        "    # Sonrasında katmanlarımızı ekliyoruz.\n",
        "    builder.add_layer(circuit, cirq.XX, \"xx1\")\n",
        "    builder.add_layer(circuit, cirq.ZZ, \"zz1\")\n",
        "\n",
        "    # son olarak yine readout kübitini hazırlıyoruz.  \n",
        "    circuit.append(cirq.H(readout))\n",
        "\n",
        "    return circuit, cirq.Z(readout)"
      ],
      "execution_count": 17,
      "outputs": []
    },
    {
      "cell_type": "code",
      "metadata": {
        "id": "-WanBfj1ervy"
      },
      "source": [
        "# Artık modeli oluşturalım.\n",
        "model_circuit, model_readout = create_quantum_model()"
      ],
      "execution_count": 18,
      "outputs": []
    },
    {
      "cell_type": "code",
      "metadata": {
        "id": "f7duXeTXetQT",
        "outputId": "0f7ddb38-d70c-42e9-ea20-88ad2455acc1",
        "colab": {
          "base_uri": "https://localhost:8080/",
          "height": 541
        }
      },
      "source": [
        "# Oluşturduğumuz modelde bir devre olarak temsil edilir.\n",
        "# Model devremizi görselleştirelim.\n",
        "SVGCircuit(model_circuit)"
      ],
      "execution_count": 19,
      "outputs": [
        {
          "output_type": "execute_result",
          "data": {
            "text/plain": [
              "<cirq.contrib.svg.svg.SVGCircuit at 0x7f3c1d35cdd8>"
            ],
            "image/svg+xml": "<svg xmlns=\"http://www.w3.org/2000/svg\" width=\"2254.5864843749996\" height=\"500.0\"><line x1=\"39.810625\" x2=\"2224.5864843749996\" y1=\"25.0\" y2=\"25.0\" stroke=\"#1967d2\" stroke-width=\"1\" /><line x1=\"39.810625\" x2=\"2224.5864843749996\" y1=\"75.0\" y2=\"75.0\" stroke=\"#1967d2\" stroke-width=\"1\" /><line x1=\"39.810625\" x2=\"2224.5864843749996\" y1=\"125.0\" y2=\"125.0\" stroke=\"#1967d2\" stroke-width=\"1\" /><line x1=\"39.810625\" x2=\"2224.5864843749996\" y1=\"175.0\" y2=\"175.0\" stroke=\"#1967d2\" stroke-width=\"1\" /><line x1=\"39.810625\" x2=\"2224.5864843749996\" y1=\"225.0\" y2=\"225.0\" stroke=\"#1967d2\" stroke-width=\"1\" /><line x1=\"39.810625\" x2=\"2224.5864843749996\" y1=\"275.0\" y2=\"275.0\" stroke=\"#1967d2\" stroke-width=\"1\" /><line x1=\"39.810625\" x2=\"2224.5864843749996\" y1=\"325.0\" y2=\"325.0\" stroke=\"#1967d2\" stroke-width=\"1\" /><line x1=\"39.810625\" x2=\"2224.5864843749996\" y1=\"375.0\" y2=\"375.0\" stroke=\"#1967d2\" stroke-width=\"1\" /><line x1=\"39.810625\" x2=\"2224.5864843749996\" y1=\"425.0\" y2=\"425.0\" stroke=\"#1967d2\" stroke-width=\"1\" /><line x1=\"39.810625\" x2=\"2224.5864843749996\" y1=\"475.0\" y2=\"475.0\" stroke=\"#1967d2\" stroke-width=\"1\" /><line x1=\"254.4471484375\" x2=\"254.4471484375\" y1=\"25.0\" y2=\"75.0\" stroke=\"black\" stroke-width=\"3\" /><line x1=\"364.09894531250006\" x2=\"364.09894531250006\" y1=\"25.0\" y2=\"125.0\" stroke=\"black\" stroke-width=\"3\" /><line x1=\"473.75074218750007\" x2=\"473.75074218750007\" y1=\"25.0\" y2=\"175.0\" stroke=\"black\" stroke-width=\"3\" /><line x1=\"583.4025390625001\" x2=\"583.4025390625001\" y1=\"25.0\" y2=\"225.0\" stroke=\"black\" stroke-width=\"3\" /><line x1=\"693.0543359375001\" x2=\"693.0543359375001\" y1=\"25.0\" y2=\"275.0\" stroke=\"black\" stroke-width=\"3\" /><line x1=\"802.7061328125002\" x2=\"802.7061328125002\" y1=\"25.0\" y2=\"325.0\" stroke=\"black\" stroke-width=\"3\" /><line x1=\"912.3579296875002\" x2=\"912.3579296875002\" y1=\"25.0\" y2=\"375.0\" stroke=\"black\" stroke-width=\"3\" /><line x1=\"1022.0097265625003\" x2=\"1022.0097265625003\" y1=\"25.0\" y2=\"425.0\" stroke=\"black\" stroke-width=\"3\" /><line x1=\"1131.6615234375004\" x2=\"1131.6615234375004\" y1=\"25.0\" y2=\"475.0\" stroke=\"black\" stroke-width=\"3\" /><line x1=\"1240.2707031250004\" x2=\"1240.2707031250004\" y1=\"25.0\" y2=\"75.0\" stroke=\"black\" stroke-width=\"3\" /><line x1=\"1347.8372656250003\" x2=\"1347.8372656250003\" y1=\"25.0\" y2=\"125.0\" stroke=\"black\" stroke-width=\"3\" /><line x1=\"1455.4038281250002\" x2=\"1455.4038281250002\" y1=\"25.0\" y2=\"175.0\" stroke=\"black\" stroke-width=\"3\" /><line x1=\"1562.9703906250002\" x2=\"1562.9703906250002\" y1=\"25.0\" y2=\"225.0\" stroke=\"black\" stroke-width=\"3\" /><line x1=\"1670.536953125\" x2=\"1670.536953125\" y1=\"25.0\" y2=\"275.0\" stroke=\"black\" stroke-width=\"3\" /><line x1=\"1778.103515625\" x2=\"1778.103515625\" y1=\"25.0\" y2=\"325.0\" stroke=\"black\" stroke-width=\"3\" /><line x1=\"1885.670078125\" x2=\"1885.670078125\" y1=\"25.0\" y2=\"375.0\" stroke=\"black\" stroke-width=\"3\" /><line x1=\"1993.2366406249998\" x2=\"1993.2366406249998\" y1=\"25.0\" y2=\"425.0\" stroke=\"black\" stroke-width=\"3\" /><line x1=\"2100.8032031249995\" x2=\"2100.8032031249995\" y1=\"25.0\" y2=\"475.0\" stroke=\"black\" stroke-width=\"3\" /><rect x=\"10.0\" y=\"5.0\" width=\"59.62125\" height=\"40\" stroke=\"black\" fill=\"white\" stroke-width=\"0\" /><text x=\"39.810625\" y=\"25.0\" dominant-baseline=\"middle\" text-anchor=\"middle\" font-size=\"14px\" font-family=\"Arial\">(-1, -1): </text><rect x=\"10.0\" y=\"55.0\" width=\"59.62125\" height=\"40\" stroke=\"black\" fill=\"white\" stroke-width=\"0\" /><text x=\"39.810625\" y=\"75.0\" dominant-baseline=\"middle\" text-anchor=\"middle\" font-size=\"14px\" font-family=\"Arial\">(0, 0): </text><rect x=\"10.0\" y=\"105.0\" width=\"59.62125\" height=\"40\" stroke=\"black\" fill=\"white\" stroke-width=\"0\" /><text x=\"39.810625\" y=\"125.0\" dominant-baseline=\"middle\" text-anchor=\"middle\" font-size=\"14px\" font-family=\"Arial\">(0, 1): </text><rect x=\"10.0\" y=\"155.0\" width=\"59.62125\" height=\"40\" stroke=\"black\" fill=\"white\" stroke-width=\"0\" /><text x=\"39.810625\" y=\"175.0\" dominant-baseline=\"middle\" text-anchor=\"middle\" font-size=\"14px\" font-family=\"Arial\">(0, 2): </text><rect x=\"10.0\" y=\"205.0\" width=\"59.62125\" height=\"40\" stroke=\"black\" fill=\"white\" stroke-width=\"0\" /><text x=\"39.810625\" y=\"225.0\" dominant-baseline=\"middle\" text-anchor=\"middle\" font-size=\"14px\" font-family=\"Arial\">(1, 0): </text><rect x=\"10.0\" y=\"255.0\" width=\"59.62125\" height=\"40\" stroke=\"black\" fill=\"white\" stroke-width=\"0\" /><text x=\"39.810625\" y=\"275.0\" dominant-baseline=\"middle\" text-anchor=\"middle\" font-size=\"14px\" font-family=\"Arial\">(1, 1): </text><rect x=\"10.0\" y=\"305.0\" width=\"59.62125\" height=\"40\" stroke=\"black\" fill=\"white\" stroke-width=\"0\" /><text x=\"39.810625\" y=\"325.0\" dominant-baseline=\"middle\" text-anchor=\"middle\" font-size=\"14px\" font-family=\"Arial\">(1, 2): </text><rect x=\"10.0\" y=\"355.0\" width=\"59.62125\" height=\"40\" stroke=\"black\" fill=\"white\" stroke-width=\"0\" /><text x=\"39.810625\" y=\"375.0\" dominant-baseline=\"middle\" text-anchor=\"middle\" font-size=\"14px\" font-family=\"Arial\">(2, 0): </text><rect x=\"10.0\" y=\"405.0\" width=\"59.62125\" height=\"40\" stroke=\"black\" fill=\"white\" stroke-width=\"0\" /><text x=\"39.810625\" y=\"425.0\" dominant-baseline=\"middle\" text-anchor=\"middle\" font-size=\"14px\" font-family=\"Arial\">(2, 1): </text><rect x=\"10.0\" y=\"455.0\" width=\"59.62125\" height=\"40\" stroke=\"black\" fill=\"white\" stroke-width=\"0\" /><text x=\"39.810625\" y=\"475.0\" dominant-baseline=\"middle\" text-anchor=\"middle\" font-size=\"14px\" font-family=\"Arial\">(2, 2): </text><rect x=\"89.62125\" y=\"5.0\" width=\"40\" height=\"40\" stroke=\"black\" fill=\"white\" stroke-width=\"1\" /><text x=\"109.62125\" y=\"25.0\" dominant-baseline=\"middle\" text-anchor=\"middle\" font-size=\"18px\" font-family=\"Arial\">X</text><rect x=\"149.62125\" y=\"5.0\" width=\"40\" height=\"40\" stroke=\"black\" fill=\"white\" stroke-width=\"1\" /><text x=\"169.62125\" y=\"25.0\" dominant-baseline=\"middle\" text-anchor=\"middle\" font-size=\"18px\" font-family=\"Arial\">H</text><rect x=\"209.62125\" y=\"55.0\" width=\"89.65179687500002\" height=\"40\" stroke=\"black\" fill=\"white\" stroke-width=\"1\" /><text x=\"254.4471484375\" y=\"75.0\" dominant-baseline=\"middle\" text-anchor=\"middle\" font-size=\"14px\" font-family=\"Arial\">XX^(xx1-0)</text><rect x=\"209.62125\" y=\"5.0\" width=\"89.65179687500002\" height=\"40\" stroke=\"black\" fill=\"white\" stroke-width=\"1\" /><text x=\"254.4471484375\" y=\"25.0\" dominant-baseline=\"middle\" text-anchor=\"middle\" font-size=\"14px\" font-family=\"Arial\">XX</text><rect x=\"319.27304687500003\" y=\"105.0\" width=\"89.65179687500002\" height=\"40\" stroke=\"black\" fill=\"white\" stroke-width=\"1\" /><text x=\"364.09894531250006\" y=\"125.0\" dominant-baseline=\"middle\" text-anchor=\"middle\" font-size=\"14px\" font-family=\"Arial\">XX^(xx1-1)</text><rect x=\"319.27304687500003\" y=\"5.0\" width=\"89.65179687500002\" height=\"40\" stroke=\"black\" fill=\"white\" stroke-width=\"1\" /><text x=\"364.09894531250006\" y=\"25.0\" dominant-baseline=\"middle\" text-anchor=\"middle\" font-size=\"14px\" font-family=\"Arial\">XX</text><rect x=\"428.92484375000004\" y=\"155.0\" width=\"89.65179687500002\" height=\"40\" stroke=\"black\" fill=\"white\" stroke-width=\"1\" /><text x=\"473.75074218750007\" y=\"175.0\" dominant-baseline=\"middle\" text-anchor=\"middle\" font-size=\"14px\" font-family=\"Arial\">XX^(xx1-2)</text><rect x=\"428.92484375000004\" y=\"5.0\" width=\"89.65179687500002\" height=\"40\" stroke=\"black\" fill=\"white\" stroke-width=\"1\" /><text x=\"473.75074218750007\" y=\"25.0\" dominant-baseline=\"middle\" text-anchor=\"middle\" font-size=\"14px\" font-family=\"Arial\">XX</text><rect x=\"538.5766406250001\" y=\"205.0\" width=\"89.65179687500002\" height=\"40\" stroke=\"black\" fill=\"white\" stroke-width=\"1\" /><text x=\"583.4025390625001\" y=\"225.0\" dominant-baseline=\"middle\" text-anchor=\"middle\" font-size=\"14px\" font-family=\"Arial\">XX^(xx1-3)</text><rect x=\"538.5766406250001\" y=\"5.0\" width=\"89.65179687500002\" height=\"40\" stroke=\"black\" fill=\"white\" stroke-width=\"1\" /><text x=\"583.4025390625001\" y=\"25.0\" dominant-baseline=\"middle\" text-anchor=\"middle\" font-size=\"14px\" font-family=\"Arial\">XX</text><rect x=\"648.2284375000002\" y=\"255.0\" width=\"89.65179687500002\" height=\"40\" stroke=\"black\" fill=\"white\" stroke-width=\"1\" /><text x=\"693.0543359375001\" y=\"275.0\" dominant-baseline=\"middle\" text-anchor=\"middle\" font-size=\"14px\" font-family=\"Arial\">XX^(xx1-4)</text><rect x=\"648.2284375000002\" y=\"5.0\" width=\"89.65179687500002\" height=\"40\" stroke=\"black\" fill=\"white\" stroke-width=\"1\" /><text x=\"693.0543359375001\" y=\"25.0\" dominant-baseline=\"middle\" text-anchor=\"middle\" font-size=\"14px\" font-family=\"Arial\">XX</text><rect x=\"757.8802343750002\" y=\"305.0\" width=\"89.65179687500002\" height=\"40\" stroke=\"black\" fill=\"white\" stroke-width=\"1\" /><text x=\"802.7061328125002\" y=\"325.0\" dominant-baseline=\"middle\" text-anchor=\"middle\" font-size=\"14px\" font-family=\"Arial\">XX^(xx1-5)</text><rect x=\"757.8802343750002\" y=\"5.0\" width=\"89.65179687500002\" height=\"40\" stroke=\"black\" fill=\"white\" stroke-width=\"1\" /><text x=\"802.7061328125002\" y=\"25.0\" dominant-baseline=\"middle\" text-anchor=\"middle\" font-size=\"14px\" font-family=\"Arial\">XX</text><rect x=\"867.5320312500003\" y=\"355.0\" width=\"89.65179687500002\" height=\"40\" stroke=\"black\" fill=\"white\" stroke-width=\"1\" /><text x=\"912.3579296875002\" y=\"375.0\" dominant-baseline=\"middle\" text-anchor=\"middle\" font-size=\"14px\" font-family=\"Arial\">XX^(xx1-6)</text><rect x=\"867.5320312500003\" y=\"5.0\" width=\"89.65179687500002\" height=\"40\" stroke=\"black\" fill=\"white\" stroke-width=\"1\" /><text x=\"912.3579296875002\" y=\"25.0\" dominant-baseline=\"middle\" text-anchor=\"middle\" font-size=\"14px\" font-family=\"Arial\">XX</text><rect x=\"977.1838281250003\" y=\"405.0\" width=\"89.65179687500002\" height=\"40\" stroke=\"black\" fill=\"white\" stroke-width=\"1\" /><text x=\"1022.0097265625003\" y=\"425.0\" dominant-baseline=\"middle\" text-anchor=\"middle\" font-size=\"14px\" font-family=\"Arial\">XX^(xx1-7)</text><rect x=\"977.1838281250003\" y=\"5.0\" width=\"89.65179687500002\" height=\"40\" stroke=\"black\" fill=\"white\" stroke-width=\"1\" /><text x=\"1022.0097265625003\" y=\"25.0\" dominant-baseline=\"middle\" text-anchor=\"middle\" font-size=\"14px\" font-family=\"Arial\">XX</text><rect x=\"1086.8356250000004\" y=\"455.0\" width=\"89.65179687500002\" height=\"40\" stroke=\"black\" fill=\"white\" stroke-width=\"1\" /><text x=\"1131.6615234375004\" y=\"475.0\" dominant-baseline=\"middle\" text-anchor=\"middle\" font-size=\"14px\" font-family=\"Arial\">XX^(xx1-8)</text><rect x=\"1086.8356250000004\" y=\"5.0\" width=\"89.65179687500002\" height=\"40\" stroke=\"black\" fill=\"white\" stroke-width=\"1\" /><text x=\"1131.6615234375004\" y=\"25.0\" dominant-baseline=\"middle\" text-anchor=\"middle\" font-size=\"14px\" font-family=\"Arial\">XX</text><rect x=\"1196.4874218750003\" y=\"55.0\" width=\"87.56656250000002\" height=\"40\" stroke=\"black\" fill=\"white\" stroke-width=\"1\" /><text x=\"1240.2707031250004\" y=\"75.0\" dominant-baseline=\"middle\" text-anchor=\"middle\" font-size=\"14px\" font-family=\"Arial\">ZZ^(zz1-0)</text><rect x=\"1196.4874218750003\" y=\"5.0\" width=\"87.56656250000002\" height=\"40\" stroke=\"black\" fill=\"white\" stroke-width=\"1\" /><text x=\"1240.2707031250004\" y=\"25.0\" dominant-baseline=\"middle\" text-anchor=\"middle\" font-size=\"14px\" font-family=\"Arial\">ZZ</text><rect x=\"1304.0539843750003\" y=\"105.0\" width=\"87.56656250000002\" height=\"40\" stroke=\"black\" fill=\"white\" stroke-width=\"1\" /><text x=\"1347.8372656250003\" y=\"125.0\" dominant-baseline=\"middle\" text-anchor=\"middle\" font-size=\"14px\" font-family=\"Arial\">ZZ^(zz1-1)</text><rect x=\"1304.0539843750003\" y=\"5.0\" width=\"87.56656250000002\" height=\"40\" stroke=\"black\" fill=\"white\" stroke-width=\"1\" /><text x=\"1347.8372656250003\" y=\"25.0\" dominant-baseline=\"middle\" text-anchor=\"middle\" font-size=\"14px\" font-family=\"Arial\">ZZ</text><rect x=\"1411.6205468750002\" y=\"155.0\" width=\"87.56656250000002\" height=\"40\" stroke=\"black\" fill=\"white\" stroke-width=\"1\" /><text x=\"1455.4038281250002\" y=\"175.0\" dominant-baseline=\"middle\" text-anchor=\"middle\" font-size=\"14px\" font-family=\"Arial\">ZZ^(zz1-2)</text><rect x=\"1411.6205468750002\" y=\"5.0\" width=\"87.56656250000002\" height=\"40\" stroke=\"black\" fill=\"white\" stroke-width=\"1\" /><text x=\"1455.4038281250002\" y=\"25.0\" dominant-baseline=\"middle\" text-anchor=\"middle\" font-size=\"14px\" font-family=\"Arial\">ZZ</text><rect x=\"1519.187109375\" y=\"205.0\" width=\"87.56656250000002\" height=\"40\" stroke=\"black\" fill=\"white\" stroke-width=\"1\" /><text x=\"1562.9703906250002\" y=\"225.0\" dominant-baseline=\"middle\" text-anchor=\"middle\" font-size=\"14px\" font-family=\"Arial\">ZZ^(zz1-3)</text><rect x=\"1519.187109375\" y=\"5.0\" width=\"87.56656250000002\" height=\"40\" stroke=\"black\" fill=\"white\" stroke-width=\"1\" /><text x=\"1562.9703906250002\" y=\"25.0\" dominant-baseline=\"middle\" text-anchor=\"middle\" font-size=\"14px\" font-family=\"Arial\">ZZ</text><rect x=\"1626.753671875\" y=\"255.0\" width=\"87.56656250000002\" height=\"40\" stroke=\"black\" fill=\"white\" stroke-width=\"1\" /><text x=\"1670.536953125\" y=\"275.0\" dominant-baseline=\"middle\" text-anchor=\"middle\" font-size=\"14px\" font-family=\"Arial\">ZZ^(zz1-4)</text><rect x=\"1626.753671875\" y=\"5.0\" width=\"87.56656250000002\" height=\"40\" stroke=\"black\" fill=\"white\" stroke-width=\"1\" /><text x=\"1670.536953125\" y=\"25.0\" dominant-baseline=\"middle\" text-anchor=\"middle\" font-size=\"14px\" font-family=\"Arial\">ZZ</text><rect x=\"1734.320234375\" y=\"305.0\" width=\"87.56656250000002\" height=\"40\" stroke=\"black\" fill=\"white\" stroke-width=\"1\" /><text x=\"1778.103515625\" y=\"325.0\" dominant-baseline=\"middle\" text-anchor=\"middle\" font-size=\"14px\" font-family=\"Arial\">ZZ^(zz1-5)</text><rect x=\"1734.320234375\" y=\"5.0\" width=\"87.56656250000002\" height=\"40\" stroke=\"black\" fill=\"white\" stroke-width=\"1\" /><text x=\"1778.103515625\" y=\"25.0\" dominant-baseline=\"middle\" text-anchor=\"middle\" font-size=\"14px\" font-family=\"Arial\">ZZ</text><rect x=\"1841.8867968749998\" y=\"355.0\" width=\"87.56656250000002\" height=\"40\" stroke=\"black\" fill=\"white\" stroke-width=\"1\" /><text x=\"1885.670078125\" y=\"375.0\" dominant-baseline=\"middle\" text-anchor=\"middle\" font-size=\"14px\" font-family=\"Arial\">ZZ^(zz1-6)</text><rect x=\"1841.8867968749998\" y=\"5.0\" width=\"87.56656250000002\" height=\"40\" stroke=\"black\" fill=\"white\" stroke-width=\"1\" /><text x=\"1885.670078125\" y=\"25.0\" dominant-baseline=\"middle\" text-anchor=\"middle\" font-size=\"14px\" font-family=\"Arial\">ZZ</text><rect x=\"1949.4533593749998\" y=\"405.0\" width=\"87.56656250000002\" height=\"40\" stroke=\"black\" fill=\"white\" stroke-width=\"1\" /><text x=\"1993.2366406249998\" y=\"425.0\" dominant-baseline=\"middle\" text-anchor=\"middle\" font-size=\"14px\" font-family=\"Arial\">ZZ^(zz1-7)</text><rect x=\"1949.4533593749998\" y=\"5.0\" width=\"87.56656250000002\" height=\"40\" stroke=\"black\" fill=\"white\" stroke-width=\"1\" /><text x=\"1993.2366406249998\" y=\"25.0\" dominant-baseline=\"middle\" text-anchor=\"middle\" font-size=\"14px\" font-family=\"Arial\">ZZ</text><rect x=\"2057.0199218749995\" y=\"455.0\" width=\"87.56656250000002\" height=\"40\" stroke=\"black\" fill=\"white\" stroke-width=\"1\" /><text x=\"2100.8032031249995\" y=\"475.0\" dominant-baseline=\"middle\" text-anchor=\"middle\" font-size=\"14px\" font-family=\"Arial\">ZZ^(zz1-8)</text><rect x=\"2057.0199218749995\" y=\"5.0\" width=\"87.56656250000002\" height=\"40\" stroke=\"black\" fill=\"white\" stroke-width=\"1\" /><text x=\"2100.8032031249995\" y=\"25.0\" dominant-baseline=\"middle\" text-anchor=\"middle\" font-size=\"14px\" font-family=\"Arial\">ZZ</text><rect x=\"2164.5864843749996\" y=\"5.0\" width=\"40\" height=\"40\" stroke=\"black\" fill=\"white\" stroke-width=\"1\" /><text x=\"2184.5864843749996\" y=\"25.0\" dominant-baseline=\"middle\" text-anchor=\"middle\" font-size=\"18px\" font-family=\"Arial\">H</text></svg>"
          },
          "metadata": {
            "tags": []
          },
          "execution_count": 19
        }
      ]
    },
    {
      "cell_type": "code",
      "metadata": {
        "id": "KE-TQ5gaewBP"
      },
      "source": [
        "# Keras modelimizi oluşturalım.\n",
        "model = tf.keras.Sequential([\n",
        "    # Girdi resim devremizdir.\n",
        "    tf.keras.layers.Input(shape=(), dtype=tf.string),\n",
        "    # PQC katmanı readout kapısının beklenen değerini [-1,1] aralığında döndürür.\n",
        "    tfq.layers.PQC(model_circuit, model_readout),\n",
        "])"
      ],
      "execution_count": 20,
      "outputs": []
    },
    {
      "cell_type": "code",
      "metadata": {
        "id": "OTIljSffva3e"
      },
      "source": [
        "# Hinge accurasy kullanacağımız için etiketlerimizi -1 ve 1 aralığına çevirelim.\n",
        "y_train_hinge = 2.0*y_train-1.0\n",
        "y_test_hinge = 2.0*y_test-1.0"
      ],
      "execution_count": 21,
      "outputs": []
    },
    {
      "cell_type": "code",
      "metadata": {
        "id": "N3PAc--rfdB7"
      },
      "source": [
        "def hinge_accuracy(y_true, y_pred):\n",
        "    y_true = tf.squeeze(y_true) > 0.0\n",
        "    y_pred = tf.squeeze(y_pred) > 0.0\n",
        "    result = tf.cast(y_true == y_pred, tf.float32)\n",
        "\n",
        "    return tf.reduce_mean(result)"
      ],
      "execution_count": 22,
      "outputs": []
    },
    {
      "cell_type": "markdown",
      "metadata": {
        "id": "gpnHCpbF0Eyb"
      },
      "source": [
        "# 5) Modelin Derlenmesi"
      ]
    },
    {
      "cell_type": "code",
      "metadata": {
        "id": "VS45OdbLfuFf"
      },
      "source": [
        "# modelimizi kayıp fonksiyonu olarak Hinge ve optimizer olarak Adam algortimasını seçerek derleyelim.\n",
        "model.compile(\n",
        "    loss=tf.keras.losses.Hinge(),\n",
        "    optimizer=tf.keras.optimizers.Adam(),\n",
        "    metrics=[hinge_accuracy])"
      ],
      "execution_count": 23,
      "outputs": []
    },
    {
      "cell_type": "code",
      "metadata": {
        "id": "HlU30Q7VfwLe",
        "outputId": "aa41dcfa-1056-45e5-a3fa-1c09b7f94775",
        "colab": {
          "base_uri": "https://localhost:8080/",
          "height": 204
        }
      },
      "source": [
        "print(model.summary())"
      ],
      "execution_count": 24,
      "outputs": [
        {
          "output_type": "stream",
          "text": [
            "Model: \"sequential\"\n",
            "_________________________________________________________________\n",
            "Layer (type)                 Output Shape              Param #   \n",
            "=================================================================\n",
            "pqc (PQC)                    (None, 1)                 18        \n",
            "=================================================================\n",
            "Total params: 18\n",
            "Trainable params: 18\n",
            "Non-trainable params: 0\n",
            "_________________________________________________________________\n",
            "None\n"
          ],
          "name": "stdout"
        }
      ]
    },
    {
      "cell_type": "markdown",
      "metadata": {
        "id": "_vMD7dxB0Otq"
      },
      "source": [
        "# 6) Modelin Eğitilmesi"
      ]
    },
    {
      "cell_type": "code",
      "metadata": {
        "id": "RuS-AK5ogAHp"
      },
      "source": [
        "# Modelimizi eğitirken kullanacağımız parametreleri belirleyelim.\n",
        "\n",
        "EPOCHS = 3\n",
        "BATCH_SIZE = 32\n",
        "\n",
        "# Modele resimleri dönüştürdüğümüz devrelerin tensör hallerini vereceğiz.\n",
        "# Bundan dolayı tüm verisetini kullanmak için onun uzunluğunu alacağız. \n",
        "NUM_EXAMPLES = len(x_train_tfcirc) "
      ],
      "execution_count": 25,
      "outputs": []
    },
    {
      "cell_type": "code",
      "metadata": {
        "id": "_SCpWDySgDKu"
      },
      "source": [
        "x_train_tfcirc_sub = x_train_tfcirc[:NUM_EXAMPLES]\n",
        "y_train_hinge_sub = y_train_hinge[:NUM_EXAMPLES]"
      ],
      "execution_count": 26,
      "outputs": []
    },
    {
      "cell_type": "code",
      "metadata": {
        "id": "Dl0kGaw3gEDi"
      },
      "source": [
        "# Model eğitiminin ne kadar süreceğini ölçmek için eğitimden önce zamanı kaydedelim.\n",
        "import time\n",
        "start_time = time.time()"
      ],
      "execution_count": 27,
      "outputs": []
    },
    {
      "cell_type": "code",
      "metadata": {
        "id": "zEF5z5xigE2I",
        "outputId": "83e097bc-a4b7-4832-e02b-72967e272cdd",
        "colab": {
          "base_uri": "https://localhost:8080/",
          "height": 136
        }
      },
      "source": [
        "qnn_history = model.fit(\n",
        "      x_train_tfcirc_sub, y_train_hinge_sub,\n",
        "      batch_size=BATCH_SIZE,\n",
        "      epochs=EPOCHS,\n",
        "      verbose=1,\n",
        "      validation_data=(x_test_tfcirc, y_test_hinge))\n",
        "\n",
        "qnn_results = model.evaluate(x_test_tfcirc, y_test)"
      ],
      "execution_count": 28,
      "outputs": [
        {
          "output_type": "stream",
          "text": [
            "Epoch 1/3\n",
            "377/377 [==============================] - 13s 34ms/step - loss: 0.5927 - hinge_accuracy: 0.7973 - val_loss: 0.3751 - val_hinge_accuracy: 0.8311\n",
            "Epoch 2/3\n",
            "377/377 [==============================] - 13s 34ms/step - loss: 0.3834 - hinge_accuracy: 0.8110 - val_loss: 0.3536 - val_hinge_accuracy: 0.8241\n",
            "Epoch 3/3\n",
            "377/377 [==============================] - 13s 34ms/step - loss: 0.3780 - hinge_accuracy: 0.8100 - val_loss: 0.3534 - val_hinge_accuracy: 0.8317\n",
            "62/62 [==============================] - 1s 16ms/step - loss: 0.3534 - hinge_accuracy: 0.8317\n"
          ],
          "name": "stdout"
        }
      ]
    },
    {
      "cell_type": "code",
      "metadata": {
        "id": "KblYDvqegFy4",
        "outputId": "c5e42f78-33dc-41b0-bd2b-73d4edd44b1b",
        "colab": {
          "base_uri": "https://localhost:8080/",
          "height": 34
        }
      },
      "source": [
        "# Başlangıçtaki zamana bakarak eğitimin kaç saniye sürdüğünü yazdıralım.\n",
        "print(f\"Model eğitimi {time.time() - start_time} saniye sürdü.\")"
      ],
      "execution_count": 29,
      "outputs": [
        {
          "output_type": "stream",
          "text": [
            "Model eğitimi 40.53106164932251 saniye sürdü.\n"
          ],
          "name": "stdout"
        }
      ]
    },
    {
      "cell_type": "code",
      "metadata": {
        "id": "90dIsszmgG7j",
        "outputId": "8fcd310f-61ea-42b5-e932-d73cc1e52cba",
        "colab": {
          "base_uri": "https://localhost:8080/",
          "height": 34
        }
      },
      "source": [
        "# Modelimizin doğruluğuna baktığımızda 0.84 civarı olduğunu görebiliriz.\n",
        "qnn_accuracy = qnn_results[1]\n",
        "qnn_accuracy"
      ],
      "execution_count": 30,
      "outputs": [
        {
          "output_type": "execute_result",
          "data": {
            "text/plain": [
              "0.8316532373428345"
            ]
          },
          "metadata": {
            "tags": []
          },
          "execution_count": 30
        }
      ]
    },
    {
      "cell_type": "markdown",
      "metadata": {
        "id": "_0NJMexj0VmC"
      },
      "source": [
        "# 7) Değerlendirme"
      ]
    },
    {
      "cell_type": "code",
      "metadata": {
        "id": "VD5Iws_BgQDk",
        "outputId": "e1c09f1f-7fb1-470d-85cc-b15459913abb",
        "colab": {
          "base_uri": "https://localhost:8080/",
          "height": 279
        }
      },
      "source": [
        "plt.plot(qnn_history.history['hinge_accuracy'], label='QNN')\n",
        "plt.xticks([0, 1, 2], [1,2,3])\n",
        "plt.yticks(np.linspace(qnn_history.history['hinge_accuracy'][0], qnn_history.history['hinge_accuracy'][-1], 5))\n",
        "plt.xlabel('Epoch')\n",
        "plt.legend()\n",
        "plt.ylabel('Validation Accuracy')\n",
        "plt.show()"
      ],
      "execution_count": 31,
      "outputs": [
        {
          "output_type": "display_data",
          "data": {
            "image/png": "[encoded data removed]",
            "text/plain": [
              "<Figure size 432x288 with 1 Axes>"
            ]
          },
          "metadata": {
            "tags": [],
            "needs_background": "light"
          }
        }
      ]
    },
    {
      "cell_type": "code",
      "metadata": {
        "id": "DfJk42ELjc2u",
        "outputId": "1fbc5be5-50bd-4655-8459-4020851dd9fa",
        "colab": {
          "base_uri": "https://localhost:8080/",
          "height": 895
        }
      },
      "source": [
        "import random\n",
        "\n",
        "ilk_indeks = random.randint(0, NUM_EXAMPLES-10)\n",
        "print(ilk_indeks)\n",
        "\n",
        "fig = plt.figure(figsize=(12, 12))\n",
        "\n",
        "gs = GridSpec(3, 3, figure=fig)\n",
        "ax1 = fig.add_subplot(gs[0, 0])\n",
        "\n",
        "for i in range(3):\n",
        "  for j in range(3):\n",
        "    ax = fig.add_subplot(gs[i, j])\n",
        "    ax.title.set_text(\"Tahmin: \" + (\"3\" if model.predict_classes(x_train_tfcirc[(2*i+j+ilk_indeks):(2*i+j+ilk_indeks+1)])[0][0] == 1 else \"6\"))\n",
        "    ax.tick_params(labelbottom=False, labelleft=False)\n",
        "    ax.imshow(x_train[2*i+j+ilk_indeks, :, :, 0], cmap=plt.get_cmap(\"binary\"))\n",
        "\n",
        "fig.suptitle(\"Tahmin Örnekleri\")\n",
        "\n",
        "plt.show()"
      ],
      "execution_count": 32,
      "outputs": [
        {
          "output_type": "stream",
          "text": [
            "3854\n",
            "WARNING:tensorflow:From <ipython-input-32-e6e6bb87a3f0>:14: Sequential.predict_classes (from tensorflow.python.keras.engine.sequential) is deprecated and will be removed after 2021-01-01.\n",
            "Instructions for updating:\n",
            "Please use instead:* `np.argmax(model.predict(x), axis=-1)`,   if your model does multi-class classification   (e.g. if it uses a `softmax` last-layer activation).* `(model.predict(x) > 0.5).astype(\"int32\")`,   if your model does binary classification   (e.g. if it uses a `sigmoid` last-layer activation).\n"
          ],
          "name": "stdout"
        },
        {
          "output_type": "stream",
          "text": [
            "/usr/local/lib/python3.6/dist-packages/ipykernel_launcher.py:13: MatplotlibDeprecationWarning: Adding an axes using the same arguments as a previous axes currently reuses the earlier instance.  In a future version, a new instance will always be created and returned.  Meanwhile, this warning can be suppressed, and the future behavior ensured, by passing a unique label to each axes instance.\n",
            "  del sys.path[0]\n"
          ],
          "name": "stderr"
        },
        {
          "output_type": "display_data",
          "data": {
            "image/png": "[encoded data removed]",
            "text/plain": [
              "<Figure size 864x864 with 9 Axes>"
            ]
          },
          "metadata": {
            "tags": []
          }
        }
      ]
    },
    {
      "cell_type": "code",
      "metadata": {
        "id": "OAug_B17Zn8N"
      },
      "source": [
        ""
      ],
      "execution_count": null,
      "outputs": []
    }
  ]
}