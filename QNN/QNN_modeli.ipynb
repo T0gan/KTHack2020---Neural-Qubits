{
  "nbformat": 4,
  "nbformat_minor": 0,
  "metadata": {
    "colab": {
      "name": "QNN_modeli.ipynb",
      "provenance": [],
      "collapsed_sections": []
    },
    "kernelspec": {
<<<<<<< HEAD
      "display_name": "Python 3",
      "name": "python3"
=======
      "name": "python3",
      "display_name": "Python 3"
>>>>>>> QNN modelleri duzenlendi
    }
  },
  "cells": [
    {
      "cell_type": "code",
      "metadata": {
<<<<<<< HEAD
        "id": "gM9yit--MZVx",
        "outputId": "bd63ed30-6574-4a55-900e-7a1a15fa0ce9",
        "colab": {
          "base_uri": "https://localhost:8080/",
          "height": 85
        }
=======
        "id": "gM9yit--MZVx"
>>>>>>> QNN modelleri duzenlendi
      },
      "source": [
        "# Tensorflow'u ve kuantum kütüphanesi indirmemiz gerekiyor.\n",
        "# (colab içindir, bilgisayarınızda kuruluysa bu kısmı silin)\n",
        "!pip install -q tensorflow==2.3.1\n",
        "!pip install -q tensorflow-quantum"
      ],
      "execution_count": 1,
<<<<<<< HEAD
      "outputs": [
        {
          "output_type": "stream",
          "text": [
            "\u001b[K     |████████████████████████████████| 320.4MB 45kB/s \n",
            "\u001b[K     |████████████████████████████████| 5.9MB 1.6MB/s \n",
            "\u001b[K     |████████████████████████████████| 1.6MB 33.1MB/s \n",
            "\u001b[K     |████████████████████████████████| 5.6MB 27.1MB/s \n",
            "\u001b[?25h"
          ],
          "name": "stdout"
        }
      ]
=======
      "outputs": []
>>>>>>> QNN modelleri duzenlendi
    },
    {
      "cell_type": "markdown",
      "metadata": {
        "id": "ZNWbG1kdzNzK"
      },
      "source": [
        "# 1) Kütüphanelerin Eklenmesi"
      ]
    },
    {
      "cell_type": "code",
      "metadata": {
        "id": "Y9oNmdWGMllT"
      },
      "source": [
        "# Kullanılacak kütüphaneleri import edelim.\n",
        "import tensorflow as tf\n",
        "import tensorflow_quantum as tfq\n",
        "\n",
        "from cirq.contrib.svg import SVGCircuit\n",
        "import cirq\n",
        "\n",
        "import sympy\n",
        "import numpy as np\n",
        "\n",
        "%matplotlib inline\n",
        "from matplotlib.gridspec import GridSpec\n",
        "import matplotlib.pyplot as plt"
      ],
      "execution_count": 2,
      "outputs": []
    },
    {
      "cell_type": "markdown",
      "metadata": {
        "id": "qNGv3lL1zYSE"
      },
      "source": [
        "# 2) Verisetinin Hazırlanması"
      ]
    },
    {
      "cell_type": "code",
      "metadata": {
        "id": "4S8zMpfKNWYh",
<<<<<<< HEAD
        "outputId": "a753ee12-1950-4b8f-e96a-f6bf85ec7e32",
        "colab": {
          "base_uri": "https://localhost:8080/",
          "height": 85
=======
        "outputId": "1c78ed6f-6bbe-4cc5-bfe5-40ddd1c4d8a9",
        "colab": {
          "base_uri": "https://localhost:8080/",
          "height": 52
>>>>>>> QNN modelleri duzenlendi
        }
      },
      "source": [
        "# Notebook'ta keras içindeki hazır verisetlerinden olan MNIST veriseti kullanılacak.\n",
        "# Önce verileri eğitim ve test olmak üzere ayıralım.\n",
        "(x_train, y_train), (x_test, y_test) = tf.keras.datasets.mnist.load_data()\n",
        "\n",
        "# Verilerimizin olduğu listeye ekstra bir dimension ekledik.\n",
        "# (ilgili link: https://stackoverflow.com/questions/29241056/how-does-numpy-newaxis-work-and-when-to-use-it)\n",
        "# Ve tüm pikselleri [0, 255] aralığından [0.0, 1.0] aralığına dönüştürülerek normalize ettik.\n",
        "# (resmimiz gri skalada olduğu için piksel değerleri [0, 255] aralığındadır)\n",
        "x_train = x_train[..., np.newaxis]/255.0\n",
        "x_test = x_test[..., np.newaxis]/255.0\n",
        "\n",
        "print(\"Verisetindeki eğitim resmi sayısı:\", len(x_train))\n",
        "print(\"Verisetindeki test resmi sayısı  :\", len(x_test))"
      ],
      "execution_count": 3,
      "outputs": [
        {
          "output_type": "stream",
          "text": [
<<<<<<< HEAD
            "Downloading data from https://storage.googleapis.com/tensorflow/tf-keras-datasets/mnist.npz\n",
            "11493376/11490434 [==============================] - 0s 0us/step\n",
=======
>>>>>>> QNN modelleri duzenlendi
            "Verisetindeki eğitim resmi sayısı: 60000\n",
            "Verisetindeki test resmi sayısı  : 10000\n"
          ],
          "name": "stdout"
        }
      ]
    },
    {
      "cell_type": "code",
      "metadata": {
        "id": "j26rtawzN1sj"
      },
      "source": [
        "# Bu fonksiyon verisetindeki 10 sınıfı (0-9), sadece 3 ve 6 rakamı olacak şekilde 2 sınıfa indirger\n",
        "def filtre_3_ve_6_sinifi(x, y):\n",
        "    # Eğitim ve test verisetinin etiketleri için filtre uyguladık\n",
        "    # `np.where` 3 ve 6 etiketlerinin bulunduğu indekslerin listesini döndürür.\n",
        "    # Bu listeyi x ve y listelerine verdiğimizde 3 ve 6 etiketine sahip verileri elde ederiz.\n",
        "    x = x[np.where((y == 3) | (y == 6))]\n",
        "    y = y[np.where((y == 3) | (y == 6))]\n",
        "\n",
        "    # Etiket listesine son bir işlem uygulayıp 3 olan değerleri True, 6 olanları False yaparız.\n",
        "    # Yani sınıflandırma sonucunda True çıkarsa o resmin 6 olarak tahmin edildiği anlamına gelir.\n",
        "    y = y == 3\n",
        "\n",
        "    return x,y"
      ],
      "execution_count": 4,
      "outputs": []
    },
    {
      "cell_type": "code",
      "metadata": {
        "id": "LHeuYYHCQgS4",
<<<<<<< HEAD
        "outputId": "c4c9273c-853a-4fb1-dce1-481b3d58739a",
        "colab": {
          "base_uri": "https://localhost:8080/",
          "height": 51
=======
        "outputId": "45829784-c0a5-4b75-ac18-697fcbbafa02",
        "colab": {
          "base_uri": "https://localhost:8080/",
          "height": 52
>>>>>>> QNN modelleri duzenlendi
        }
      },
      "source": [
        "# Sadece 3 ve 6 sınıfının bulunduğu yeni listemizi elde ederiz.\n",
        "x_train, y_train = filtre_3_ve_6_sinifi(x_train, y_train)\n",
        "x_test, y_test = filtre_3_ve_6_sinifi(x_test, y_test)\n",
        "\n",
        "print(\"Filtrelenmiş eğitim resmi sayısı:\", len(x_train))\n",
        "print(\"Filtrelenmiş test resmi sayısı:\", len(x_test))"
      ],
      "execution_count": 5,
      "outputs": [
        {
          "output_type": "stream",
          "text": [
            "Filtrelenmiş eğitim resmi sayısı: 12049\n",
            "Filtrelenmiş test resmi sayısı: 1968\n"
          ],
          "name": "stdout"
        }
      ]
    },
    {
      "cell_type": "code",
      "metadata": {
        "id": "zEpHNeEIUfXo",
<<<<<<< HEAD
        "outputId": "60dae1a5-dcd7-44c1-85ad-1e98872e7cb8",
=======
        "outputId": "7be037dd-d1ed-4eef-9381-411a9925edbf",
>>>>>>> QNN modelleri duzenlendi
        "colab": {
          "base_uri": "https://localhost:8080/",
          "height": 286
        }
      },
      "source": [
        "# Eğitim verisetimizdeki ilk resme göz atalım.\n",
        "# Diğer resimlere bakmak için liste içerisindeki ilk sayıyı değiştirmemiz yeterli.\n",
        "plt.imshow(x_train[0, :, :, 0], vmin=0, vmax=1, cmap=plt.get_cmap(\"binary\"))\n",
        "plt.colorbar()"
      ],
      "execution_count": 6,
      "outputs": [
        {
          "output_type": "execute_result",
          "data": {
            "text/plain": [
<<<<<<< HEAD
              "<matplotlib.colorbar.Colorbar at 0x7f3c1edb64e0>"
=======
              "<matplotlib.colorbar.Colorbar at 0x7f3057952780>"
>>>>>>> QNN modelleri duzenlendi
            ]
          },
          "metadata": {
            "tags": []
          },
          "execution_count": 6
        },
        {
          "output_type": "display_data",
          "data": {
            "image/png": "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\n",
            "text/plain": [
              "<Figure size 432x288 with 2 Axes>"
            ]
          },
          "metadata": {
            "tags": [],
            "needs_background": "light"
          }
        }
      ]
    },
    {
      "cell_type": "code",
      "metadata": {
        "id": "BcTwLNiMVwfN"
      },
      "source": [
        "# MNIST verisetindeki resimler 28x28 pikseldir.\n",
        "# Kuantum programlamada kullanılacak kübit sayısındaki bazı sınırlardan dolayı,\n",
        "# resimlerimizin boyutunu 3x3 piksele düşüreceğiz.\n",
        "x_train_small = tf.image.resize(x_train, (3, 3))\n",
        "x_test_small = tf.image.resize(x_test, (3, 3))"
      ],
      "execution_count": 7,
      "outputs": []
    },
    {
      "cell_type": "code",
      "metadata": {
<<<<<<< HEAD
        "id": "RuY4xOyBXxRF",
        "outputId": "2f8e2a2e-14e5-4305-d837-37ced13e9a58",
        "colab": {
          "base_uri": "https://localhost:8080/",
          "height": 34
        }
      },
      "source": [
        "x_train_small.shape"
      ],
      "execution_count": 8,
      "outputs": [
        {
          "output_type": "execute_result",
          "data": {
            "text/plain": [
              "TensorShape([12049, 3, 3, 1])"
            ]
          },
          "metadata": {
            "tags": []
          },
          "execution_count": 8
        }
      ]
    },
    {
      "cell_type": "code",
      "metadata": {
        "id": "6d1rd2HtWhkl",
        "outputId": "9a2b8eb1-d949-4ff1-8d3e-aa3ddfaf8737",
=======
        "id": "6d1rd2HtWhkl",
        "outputId": "5f84c040-63f8-4953-8c71-732f8810ab8b",
>>>>>>> QNN modelleri duzenlendi
        "colab": {
          "base_uri": "https://localhost:8080/",
          "height": 286
        }
      },
      "source": [
        "# Az önce baktığımız resmin 3x3 haline göz atalım.\n",
        "plt.imshow(x_train_small[0,:,:,0], vmin=0, vmax=1, cmap=plt.get_cmap(\"binary\"))\n",
        "plt.colorbar()"
      ],
<<<<<<< HEAD
      "execution_count": 9,
=======
      "execution_count": 8,
>>>>>>> QNN modelleri duzenlendi
      "outputs": [
        {
          "output_type": "execute_result",
          "data": {
            "text/plain": [
<<<<<<< HEAD
              "<matplotlib.colorbar.Colorbar at 0x7f3c1e8e5240>"
=======
              "<matplotlib.colorbar.Colorbar at 0x7f3057407470>"
>>>>>>> QNN modelleri duzenlendi
            ]
          },
          "metadata": {
            "tags": []
          },
<<<<<<< HEAD
          "execution_count": 9
=======
          "execution_count": 8
>>>>>>> QNN modelleri duzenlendi
        },
        {
          "output_type": "display_data",
          "data": {
            "image/png": "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\n",
            "text/plain": [
              "<Figure size 432x288 with 2 Axes>"
            ]
          },
          "metadata": {
            "tags": [],
            "needs_background": "light"
          }
        }
      ]
    },
    {
      "cell_type": "code",
      "metadata": {
        "id": "YAMtqZClXj43"
      },
      "source": [
        "# [0, 1] aralığına daralttığımız resimlerimizdeki pikseller 0.5 ten büyük ise 1,\n",
        "# küçük ise 0 olarak yeniden etiketleriz. 255 aralığı olsaydı piksellerimizi\n",
        "# 8 bit ile temsil etmemiz gerekirdi, ancak 0 ve 1 değerleri 1 bit ile ifade edilebilir.\n",
        "# Yani her pikseli 1 kübit ile ifade edebiliriz.\n",
        "THRESHOLD = 0.5\n",
        "\n",
        "x_train_bin = np.array(x_train_small > THRESHOLD, dtype=np.float32)\n",
        "x_test_bin = np.array(x_test_small > THRESHOLD, dtype=np.float32)"
      ],
<<<<<<< HEAD
      "execution_count": 10,
=======
      "execution_count": 9,
>>>>>>> QNN modelleri duzenlendi
      "outputs": []
    },
    {
      "cell_type": "code",
      "metadata": {
        "id": "G-NNcglSZihd",
<<<<<<< HEAD
        "outputId": "d2be404a-d6c6-4ca9-d561-41af4eda0907",
        "colab": {
          "base_uri": "https://localhost:8080/",
          "height": 68
=======
        "outputId": "2e2afc85-1d3e-4945-9a1e-7263c44b9477",
        "colab": {
          "base_uri": "https://localhost:8080/",
          "height": 69
>>>>>>> QNN modelleri duzenlendi
        }
      },
      "source": [
        "# Az önce kullandığımız resmi ele alalaım ve resmimizdeki piksellerin değerlerini yazdıralım.\n",
        "print('\\n'.join('  '.join(str(x[0]) for x in row) for row in x_train_bin[0]))"
      ],
<<<<<<< HEAD
      "execution_count": 11,
=======
      "execution_count": 10,
>>>>>>> QNN modelleri duzenlendi
      "outputs": [
        {
          "output_type": "stream",
          "text": [
            "0.0  0.0  0.0\n",
            "0.0  1.0  0.0\n",
            "0.0  1.0  0.0\n"
          ],
          "name": "stdout"
        }
      ]
    },
    {
      "cell_type": "markdown",
      "metadata": {
        "id": "hvtlIHUKzoUu"
      },
      "source": [
        "# 3) Resimlerin Kuantum Devrelerine Kodlanması"
      ]
    },
    {
      "cell_type": "code",
      "metadata": {
        "id": "HZC-6p6laDbA"
      },
      "source": [
        "# Resimlerimizi kuantum programlamada kullanabilmek için kübitler ile ifade etmeliyiz.\n",
        "# Kübitler başlangıçta 0 değerindedirler. Her resmin piksel değerini tutabilmek için\n",
        "# bu kübitleri devreden geçirmeliyiz. Dolayısıyla tüm resimler için birer devre oluştururuz.\n",
        "# Bu fonksiyon parametre olarak verilen resmin kuantum devresine kodlar.\n",
        "def convert_to_circuit(image):\n",
        "    values = np.ndarray.flatten(image)\n",
        "    qubits = cirq.GridQubit.rect(3, 3)\n",
        "    circuit = cirq.Circuit()\n",
        "    for i, value in enumerate(values):\n",
        "        if value:\n",
        "            circuit.append(cirq.X(qubits[i]))\n",
        "    return circuit"
      ],
<<<<<<< HEAD
      "execution_count": 12,
=======
      "execution_count": 11,
>>>>>>> QNN modelleri duzenlendi
      "outputs": []
    },
    {
      "cell_type": "code",
      "metadata": {
        "id": "XTlEtn8kbe0i"
      },
      "source": [
        "# Elimizdeki tüm resimlerin kuantum devrelerini oluştururuz ve listede toplarız.\n",
        "\n",
        "x_train_circ = [convert_to_circuit(x) for x in x_train_bin]\n",
        "x_test_circ = [convert_to_circuit(x) for x in x_test_bin]"
      ],
<<<<<<< HEAD
      "execution_count": 13,
=======
      "execution_count": 12,
>>>>>>> QNN modelleri duzenlendi
      "outputs": []
    },
    {
      "cell_type": "code",
      "metadata": {
        "id": "6rkByKYFbfJi",
<<<<<<< HEAD
        "outputId": "fb60a931-b49c-488d-c66a-eb51f12087c3",
=======
        "outputId": "c6af7542-f454-48ca-c3c5-8f088ef98093",
>>>>>>> QNN modelleri duzenlendi
        "colab": {
          "base_uri": "https://localhost:8080/",
          "height": 138
        }
      },
      "source": [
        "# Notebookta örnek olarak kullandığımız eğitim setindeki ilk resmin devresi şu şekildedir:\n",
        "SVGCircuit(x_train_circ[0])"
      ],
<<<<<<< HEAD
      "execution_count": 14,
=======
      "execution_count": 13,
>>>>>>> QNN modelleri duzenlendi
      "outputs": [
        {
          "output_type": "stream",
          "text": [
            "findfont: Font family ['Arial'] not found. Falling back to DejaVu Sans.\n"
          ],
          "name": "stderr"
        },
        {
          "output_type": "execute_result",
          "data": {
            "text/plain": [
<<<<<<< HEAD
              "<cirq.contrib.svg.svg.SVGCircuit at 0x7f3c1e82e160>"
=======
              "<cirq.contrib.svg.svg.SVGCircuit at 0x7f30573df7b8>"
>>>>>>> QNN modelleri duzenlendi
            ],
            "image/svg+xml": "<svg xmlns=\"http://www.w3.org/2000/svg\" width=\"169.517734375\" height=\"100.0\"><line x1=\"34.7588671875\" x2=\"139.517734375\" y1=\"25.0\" y2=\"25.0\" stroke=\"#1967d2\" stroke-width=\"1\" /><line x1=\"34.7588671875\" x2=\"139.517734375\" y1=\"75.0\" y2=\"75.0\" stroke=\"#1967d2\" stroke-width=\"1\" /><rect x=\"10.0\" y=\"5.0\" width=\"49.517734375\" height=\"40\" stroke=\"black\" fill=\"white\" stroke-width=\"0\" /><text x=\"34.7588671875\" y=\"25.0\" dominant-baseline=\"middle\" text-anchor=\"middle\" font-size=\"14px\" font-family=\"Arial\">(1, 1): </text><rect x=\"10.0\" y=\"55.0\" width=\"49.517734375\" height=\"40\" stroke=\"black\" fill=\"white\" stroke-width=\"0\" /><text x=\"34.7588671875\" y=\"75.0\" dominant-baseline=\"middle\" text-anchor=\"middle\" font-size=\"14px\" font-family=\"Arial\">(2, 1): </text><rect x=\"79.517734375\" y=\"5.0\" width=\"40\" height=\"40\" stroke=\"black\" fill=\"white\" stroke-width=\"1\" /><text x=\"99.517734375\" y=\"25.0\" dominant-baseline=\"middle\" text-anchor=\"middle\" font-size=\"18px\" font-family=\"Arial\">X</text><rect x=\"79.517734375\" y=\"55.0\" width=\"40\" height=\"40\" stroke=\"black\" fill=\"white\" stroke-width=\"1\" /><text x=\"99.517734375\" y=\"75.0\" dominant-baseline=\"middle\" text-anchor=\"middle\" font-size=\"18px\" font-family=\"Arial\">X</text></svg>"
          },
          "metadata": {
            "tags": []
          },
<<<<<<< HEAD
          "execution_count": 14
=======
          "execution_count": 13
>>>>>>> QNN modelleri duzenlendi
        }
      ]
    },
    {
      "cell_type": "code",
      "metadata": {
        "id": "K3e7XKX2cJ7w"
      },
      "source": [
        "# Tüm devreleri bir tensöre çeviririz ve onları da listede saklarız.\n",
        "\n",
        "x_train_tfcirc = tfq.convert_to_tensor(x_train_circ)\n",
        "x_test_tfcirc = tfq.convert_to_tensor(x_test_circ)"
      ],
<<<<<<< HEAD
      "execution_count": 15,
=======
      "execution_count": 14,
>>>>>>> QNN modelleri duzenlendi
      "outputs": []
    },
    {
      "cell_type": "markdown",
      "metadata": {
        "id": "fX6e7zJQz0Wv"
      },
      "source": [
        "# 4) Kuantum Modelinin İnşa Edilmesi"
      ]
    },
    {
      "cell_type": "code",
      "metadata": {
        "id": "O2XRaQuucgcS"
      },
      "source": [
        "# Bu sınıf, modelimizin katmanlarını türeteceğimiz sınıftır.\n",
        "# Kübitleri ve readout parametreleri alır.\n",
        "class CircuitLayerBuilder():\n",
        "    def __init__(self, data_qubits, readout):\n",
        "        self.data_qubits = data_qubits\n",
        "        self.readout = readout\n",
        "    \n",
        "    def add_layer(self, circuit, gate, prefix):\n",
        "        for i, qubit in enumerate(self.data_qubits):\n",
        "            symbol = sympy.Symbol(prefix + '-' + str(i))\n",
        "            circuit.append(gate(qubit, self.readout)**symbol)"
      ],
<<<<<<< HEAD
      "execution_count": 16,
=======
      "execution_count": 15,
>>>>>>> QNN modelleri duzenlendi
      "outputs": []
    },
    {
      "cell_type": "code",
      "metadata": {
        "id": "OV_I3iZNdKvx"
      },
      "source": [
        "# Bu fonksiyon, kuantum modelini oluşturur.\n",
        "# Modeldeki kübit sayısı veri devrelerindekiyle aynı olmalıdır.\n",
        "# Ardından ekstra bir readout kübiti oluşturururuz. Bu kübit\n",
        "# resmimiz için yaptığımız tahminin sonucunu tutacaktır.\n",
        "\n",
        "def create_quantum_model():\n",
        "    data_qubits = cirq.GridQubit.rect(3, 3)\n",
        "    readout = cirq.GridQubit(-1, -1)\n",
        "    circuit = cirq.Circuit()\n",
        "    \n",
        "    # readout kübitini hazırlıyoruz.\n",
        "    circuit.append(cirq.X(readout))\n",
        "    circuit.append(cirq.H(readout))\n",
        "    \n",
        "    # Devre katmanı oluşturucumuzdan bir nesne üretiyoruz,\n",
        "    # ve nesnemize tüm kübitlerimizi tanımlıyoruz.\n",
        "    builder = CircuitLayerBuilder(\n",
        "        data_qubits = data_qubits,\n",
        "        readout=readout)\n",
        "\n",
        "    # Sonrasında katmanlarımızı ekliyoruz.\n",
        "    builder.add_layer(circuit, cirq.XX, \"xx1\")\n",
        "    builder.add_layer(circuit, cirq.ZZ, \"zz1\")\n",
        "\n",
        "    # son olarak yine readout kübitini hazırlıyoruz.  \n",
        "    circuit.append(cirq.H(readout))\n",
        "\n",
        "    return circuit, cirq.Z(readout)"
      ],
<<<<<<< HEAD
      "execution_count": 17,
=======
      "execution_count": 16,
>>>>>>> QNN modelleri duzenlendi
      "outputs": []
    },
    {
      "cell_type": "code",
      "metadata": {
        "id": "-WanBfj1ervy"
      },
      "source": [
        "# Artık modeli oluşturalım.\n",
        "model_circuit, model_readout = create_quantum_model()"
      ],
<<<<<<< HEAD
      "execution_count": 18,
=======
      "execution_count": 17,
>>>>>>> QNN modelleri duzenlendi
      "outputs": []
    },
    {
      "cell_type": "code",
      "metadata": {
        "id": "f7duXeTXetQT",
<<<<<<< HEAD
        "outputId": "0f7ddb38-d70c-42e9-ea20-88ad2455acc1",
        "colab": {
          "base_uri": "https://localhost:8080/",
          "height": 541
=======
        "outputId": "28841300-d6d0-49a3-a296-adf8c54e2681",
        "colab": {
          "base_uri": "https://localhost:8080/",
          "height": 521
>>>>>>> QNN modelleri duzenlendi
        }
      },
      "source": [
        "# Oluşturduğumuz modelde bir devre olarak temsil edilir.\n",
        "# Model devremizi görselleştirelim.\n",
        "SVGCircuit(model_circuit)"
      ],
<<<<<<< HEAD
      "execution_count": 19,
=======
      "execution_count": 18,
>>>>>>> QNN modelleri duzenlendi
      "outputs": [
        {
          "output_type": "execute_result",
          "data": {
            "text/plain": [
<<<<<<< HEAD
              "<cirq.contrib.svg.svg.SVGCircuit at 0x7f3c1d35cdd8>"
=======
              "<cirq.contrib.svg.svg.SVGCircuit at 0x7f3055e86cc0>"
>>>>>>> QNN modelleri duzenlendi
            ],
            "image/svg+xml": "<svg xmlns=\"http://www.w3.org/2000/svg\" width=\"2254.5864843749996\" height=\"500.0\"><line x1=\"39.810625\" x2=\"2224.5864843749996\" y1=\"25.0\" y2=\"25.0\" stroke=\"#1967d2\" stroke-width=\"1\" /><line x1=\"39.810625\" x2=\"2224.5864843749996\" y1=\"75.0\" y2=\"75.0\" stroke=\"#1967d2\" stroke-width=\"1\" /><line x1=\"39.810625\" x2=\"2224.5864843749996\" y1=\"125.0\" y2=\"125.0\" stroke=\"#1967d2\" stroke-width=\"1\" /><line x1=\"39.810625\" x2=\"2224.5864843749996\" y1=\"175.0\" y2=\"175.0\" stroke=\"#1967d2\" stroke-width=\"1\" /><line x1=\"39.810625\" x2=\"2224.5864843749996\" y1=\"225.0\" y2=\"225.0\" stroke=\"#1967d2\" stroke-width=\"1\" /><line x1=\"39.810625\" x2=\"2224.5864843749996\" y1=\"275.0\" y2=\"275.0\" stroke=\"#1967d2\" stroke-width=\"1\" /><line x1=\"39.810625\" x2=\"2224.5864843749996\" y1=\"325.0\" y2=\"325.0\" stroke=\"#1967d2\" stroke-width=\"1\" /><line x1=\"39.810625\" x2=\"2224.5864843749996\" y1=\"375.0\" y2=\"375.0\" stroke=\"#1967d2\" stroke-width=\"1\" /><line x1=\"39.810625\" x2=\"2224.5864843749996\" y1=\"425.0\" y2=\"425.0\" stroke=\"#1967d2\" stroke-width=\"1\" /><line x1=\"39.810625\" x2=\"2224.5864843749996\" y1=\"475.0\" y2=\"475.0\" stroke=\"#1967d2\" stroke-width=\"1\" /><line x1=\"254.4471484375\" x2=\"254.4471484375\" y1=\"25.0\" y2=\"75.0\" stroke=\"black\" stroke-width=\"3\" /><line x1=\"364.09894531250006\" x2=\"364.09894531250006\" y1=\"25.0\" y2=\"125.0\" stroke=\"black\" stroke-width=\"3\" /><line x1=\"473.75074218750007\" x2=\"473.75074218750007\" y1=\"25.0\" y2=\"175.0\" stroke=\"black\" stroke-width=\"3\" /><line x1=\"583.4025390625001\" x2=\"583.4025390625001\" y1=\"25.0\" y2=\"225.0\" stroke=\"black\" stroke-width=\"3\" /><line x1=\"693.0543359375001\" x2=\"693.0543359375001\" y1=\"25.0\" y2=\"275.0\" stroke=\"black\" stroke-width=\"3\" /><line x1=\"802.7061328125002\" x2=\"802.7061328125002\" y1=\"25.0\" y2=\"325.0\" stroke=\"black\" stroke-width=\"3\" /><line x1=\"912.3579296875002\" x2=\"912.3579296875002\" y1=\"25.0\" y2=\"375.0\" stroke=\"black\" stroke-width=\"3\" /><line x1=\"1022.0097265625003\" x2=\"1022.0097265625003\" y1=\"25.0\" y2=\"425.0\" stroke=\"black\" stroke-width=\"3\" /><line x1=\"1131.6615234375004\" x2=\"1131.6615234375004\" y1=\"25.0\" y2=\"475.0\" stroke=\"black\" stroke-width=\"3\" /><line x1=\"1240.2707031250004\" x2=\"1240.2707031250004\" y1=\"25.0\" y2=\"75.0\" stroke=\"black\" stroke-width=\"3\" /><line x1=\"1347.8372656250003\" x2=\"1347.8372656250003\" y1=\"25.0\" y2=\"125.0\" stroke=\"black\" stroke-width=\"3\" /><line x1=\"1455.4038281250002\" x2=\"1455.4038281250002\" y1=\"25.0\" y2=\"175.0\" stroke=\"black\" stroke-width=\"3\" /><line x1=\"1562.9703906250002\" x2=\"1562.9703906250002\" y1=\"25.0\" y2=\"225.0\" stroke=\"black\" stroke-width=\"3\" /><line x1=\"1670.536953125\" x2=\"1670.536953125\" y1=\"25.0\" y2=\"275.0\" stroke=\"black\" stroke-width=\"3\" /><line x1=\"1778.103515625\" x2=\"1778.103515625\" y1=\"25.0\" y2=\"325.0\" stroke=\"black\" stroke-width=\"3\" /><line x1=\"1885.670078125\" x2=\"1885.670078125\" y1=\"25.0\" y2=\"375.0\" stroke=\"black\" stroke-width=\"3\" /><line x1=\"1993.2366406249998\" x2=\"1993.2366406249998\" y1=\"25.0\" y2=\"425.0\" stroke=\"black\" stroke-width=\"3\" /><line x1=\"2100.8032031249995\" x2=\"2100.8032031249995\" y1=\"25.0\" y2=\"475.0\" stroke=\"black\" stroke-width=\"3\" /><rect x=\"10.0\" y=\"5.0\" width=\"59.62125\" height=\"40\" stroke=\"black\" fill=\"white\" stroke-width=\"0\" /><text x=\"39.810625\" y=\"25.0\" dominant-baseline=\"middle\" text-anchor=\"middle\" font-size=\"14px\" font-family=\"Arial\">(-1, -1): </text><rect x=\"10.0\" y=\"55.0\" width=\"59.62125\" height=\"40\" stroke=\"black\" fill=\"white\" stroke-width=\"0\" /><text x=\"39.810625\" y=\"75.0\" dominant-baseline=\"middle\" text-anchor=\"middle\" font-size=\"14px\" font-family=\"Arial\">(0, 0): </text><rect x=\"10.0\" y=\"105.0\" width=\"59.62125\" height=\"40\" stroke=\"black\" fill=\"white\" stroke-width=\"0\" /><text x=\"39.810625\" y=\"125.0\" dominant-baseline=\"middle\" text-anchor=\"middle\" font-size=\"14px\" font-family=\"Arial\">(0, 1): </text><rect x=\"10.0\" y=\"155.0\" width=\"59.62125\" height=\"40\" stroke=\"black\" fill=\"white\" stroke-width=\"0\" /><text x=\"39.810625\" y=\"175.0\" dominant-baseline=\"middle\" text-anchor=\"middle\" font-size=\"14px\" font-family=\"Arial\">(0, 2): </text><rect x=\"10.0\" y=\"205.0\" width=\"59.62125\" height=\"40\" stroke=\"black\" fill=\"white\" stroke-width=\"0\" /><text x=\"39.810625\" y=\"225.0\" dominant-baseline=\"middle\" text-anchor=\"middle\" font-size=\"14px\" font-family=\"Arial\">(1, 0): </text><rect x=\"10.0\" y=\"255.0\" width=\"59.62125\" height=\"40\" stroke=\"black\" fill=\"white\" stroke-width=\"0\" /><text x=\"39.810625\" y=\"275.0\" dominant-baseline=\"middle\" text-anchor=\"middle\" font-size=\"14px\" font-family=\"Arial\">(1, 1): </text><rect x=\"10.0\" y=\"305.0\" width=\"59.62125\" height=\"40\" stroke=\"black\" fill=\"white\" stroke-width=\"0\" /><text x=\"39.810625\" y=\"325.0\" dominant-baseline=\"middle\" text-anchor=\"middle\" font-size=\"14px\" font-family=\"Arial\">(1, 2): </text><rect x=\"10.0\" y=\"355.0\" width=\"59.62125\" height=\"40\" stroke=\"black\" fill=\"white\" stroke-width=\"0\" /><text x=\"39.810625\" y=\"375.0\" dominant-baseline=\"middle\" text-anchor=\"middle\" font-size=\"14px\" font-family=\"Arial\">(2, 0): </text><rect x=\"10.0\" y=\"405.0\" width=\"59.62125\" height=\"40\" stroke=\"black\" fill=\"white\" stroke-width=\"0\" /><text x=\"39.810625\" y=\"425.0\" dominant-baseline=\"middle\" text-anchor=\"middle\" font-size=\"14px\" font-family=\"Arial\">(2, 1): </text><rect x=\"10.0\" y=\"455.0\" width=\"59.62125\" height=\"40\" stroke=\"black\" fill=\"white\" stroke-width=\"0\" /><text x=\"39.810625\" y=\"475.0\" dominant-baseline=\"middle\" text-anchor=\"middle\" font-size=\"14px\" font-family=\"Arial\">(2, 2): </text><rect x=\"89.62125\" y=\"5.0\" width=\"40\" height=\"40\" stroke=\"black\" fill=\"white\" stroke-width=\"1\" /><text x=\"109.62125\" y=\"25.0\" dominant-baseline=\"middle\" text-anchor=\"middle\" font-size=\"18px\" font-family=\"Arial\">X</text><rect x=\"149.62125\" y=\"5.0\" width=\"40\" height=\"40\" stroke=\"black\" fill=\"white\" stroke-width=\"1\" /><text x=\"169.62125\" y=\"25.0\" dominant-baseline=\"middle\" text-anchor=\"middle\" font-size=\"18px\" font-family=\"Arial\">H</text><rect x=\"209.62125\" y=\"55.0\" width=\"89.65179687500002\" height=\"40\" stroke=\"black\" fill=\"white\" stroke-width=\"1\" /><text x=\"254.4471484375\" y=\"75.0\" dominant-baseline=\"middle\" text-anchor=\"middle\" font-size=\"14px\" font-family=\"Arial\">XX^(xx1-0)</text><rect x=\"209.62125\" y=\"5.0\" width=\"89.65179687500002\" height=\"40\" stroke=\"black\" fill=\"white\" stroke-width=\"1\" /><text x=\"254.4471484375\" y=\"25.0\" dominant-baseline=\"middle\" text-anchor=\"middle\" font-size=\"14px\" font-family=\"Arial\">XX</text><rect x=\"319.27304687500003\" y=\"105.0\" width=\"89.65179687500002\" height=\"40\" stroke=\"black\" fill=\"white\" stroke-width=\"1\" /><text x=\"364.09894531250006\" y=\"125.0\" dominant-baseline=\"middle\" text-anchor=\"middle\" font-size=\"14px\" font-family=\"Arial\">XX^(xx1-1)</text><rect x=\"319.27304687500003\" y=\"5.0\" width=\"89.65179687500002\" height=\"40\" stroke=\"black\" fill=\"white\" stroke-width=\"1\" /><text x=\"364.09894531250006\" y=\"25.0\" dominant-baseline=\"middle\" text-anchor=\"middle\" font-size=\"14px\" font-family=\"Arial\">XX</text><rect x=\"428.92484375000004\" y=\"155.0\" width=\"89.65179687500002\" height=\"40\" stroke=\"black\" fill=\"white\" stroke-width=\"1\" /><text x=\"473.75074218750007\" y=\"175.0\" dominant-baseline=\"middle\" text-anchor=\"middle\" font-size=\"14px\" font-family=\"Arial\">XX^(xx1-2)</text><rect x=\"428.92484375000004\" y=\"5.0\" width=\"89.65179687500002\" height=\"40\" stroke=\"black\" fill=\"white\" stroke-width=\"1\" /><text x=\"473.75074218750007\" y=\"25.0\" dominant-baseline=\"middle\" text-anchor=\"middle\" font-size=\"14px\" font-family=\"Arial\">XX</text><rect x=\"538.5766406250001\" y=\"205.0\" width=\"89.65179687500002\" height=\"40\" stroke=\"black\" fill=\"white\" stroke-width=\"1\" /><text x=\"583.4025390625001\" y=\"225.0\" dominant-baseline=\"middle\" text-anchor=\"middle\" font-size=\"14px\" font-family=\"Arial\">XX^(xx1-3)</text><rect x=\"538.5766406250001\" y=\"5.0\" width=\"89.65179687500002\" height=\"40\" stroke=\"black\" fill=\"white\" stroke-width=\"1\" /><text x=\"583.4025390625001\" y=\"25.0\" dominant-baseline=\"middle\" text-anchor=\"middle\" font-size=\"14px\" font-family=\"Arial\">XX</text><rect x=\"648.2284375000002\" y=\"255.0\" width=\"89.65179687500002\" height=\"40\" stroke=\"black\" fill=\"white\" stroke-width=\"1\" /><text x=\"693.0543359375001\" y=\"275.0\" dominant-baseline=\"middle\" text-anchor=\"middle\" font-size=\"14px\" font-family=\"Arial\">XX^(xx1-4)</text><rect x=\"648.2284375000002\" y=\"5.0\" width=\"89.65179687500002\" height=\"40\" stroke=\"black\" fill=\"white\" stroke-width=\"1\" /><text x=\"693.0543359375001\" y=\"25.0\" dominant-baseline=\"middle\" text-anchor=\"middle\" font-size=\"14px\" font-family=\"Arial\">XX</text><rect x=\"757.8802343750002\" y=\"305.0\" width=\"89.65179687500002\" height=\"40\" stroke=\"black\" fill=\"white\" stroke-width=\"1\" /><text x=\"802.7061328125002\" y=\"325.0\" dominant-baseline=\"middle\" text-anchor=\"middle\" font-size=\"14px\" font-family=\"Arial\">XX^(xx1-5)</text><rect x=\"757.8802343750002\" y=\"5.0\" width=\"89.65179687500002\" height=\"40\" stroke=\"black\" fill=\"white\" stroke-width=\"1\" /><text x=\"802.7061328125002\" y=\"25.0\" dominant-baseline=\"middle\" text-anchor=\"middle\" font-size=\"14px\" font-family=\"Arial\">XX</text><rect x=\"867.5320312500003\" y=\"355.0\" width=\"89.65179687500002\" height=\"40\" stroke=\"black\" fill=\"white\" stroke-width=\"1\" /><text x=\"912.3579296875002\" y=\"375.0\" dominant-baseline=\"middle\" text-anchor=\"middle\" font-size=\"14px\" font-family=\"Arial\">XX^(xx1-6)</text><rect x=\"867.5320312500003\" y=\"5.0\" width=\"89.65179687500002\" height=\"40\" stroke=\"black\" fill=\"white\" stroke-width=\"1\" /><text x=\"912.3579296875002\" y=\"25.0\" dominant-baseline=\"middle\" text-anchor=\"middle\" font-size=\"14px\" font-family=\"Arial\">XX</text><rect x=\"977.1838281250003\" y=\"405.0\" width=\"89.65179687500002\" height=\"40\" stroke=\"black\" fill=\"white\" stroke-width=\"1\" /><text x=\"1022.0097265625003\" y=\"425.0\" dominant-baseline=\"middle\" text-anchor=\"middle\" font-size=\"14px\" font-family=\"Arial\">XX^(xx1-7)</text><rect x=\"977.1838281250003\" y=\"5.0\" width=\"89.65179687500002\" height=\"40\" stroke=\"black\" fill=\"white\" stroke-width=\"1\" /><text x=\"1022.0097265625003\" y=\"25.0\" dominant-baseline=\"middle\" text-anchor=\"middle\" font-size=\"14px\" font-family=\"Arial\">XX</text><rect x=\"1086.8356250000004\" y=\"455.0\" width=\"89.65179687500002\" height=\"40\" stroke=\"black\" fill=\"white\" stroke-width=\"1\" /><text x=\"1131.6615234375004\" y=\"475.0\" dominant-baseline=\"middle\" text-anchor=\"middle\" font-size=\"14px\" font-family=\"Arial\">XX^(xx1-8)</text><rect x=\"1086.8356250000004\" y=\"5.0\" width=\"89.65179687500002\" height=\"40\" stroke=\"black\" fill=\"white\" stroke-width=\"1\" /><text x=\"1131.6615234375004\" y=\"25.0\" dominant-baseline=\"middle\" text-anchor=\"middle\" font-size=\"14px\" font-family=\"Arial\">XX</text><rect x=\"1196.4874218750003\" y=\"55.0\" width=\"87.56656250000002\" height=\"40\" stroke=\"black\" fill=\"white\" stroke-width=\"1\" /><text x=\"1240.2707031250004\" y=\"75.0\" dominant-baseline=\"middle\" text-anchor=\"middle\" font-size=\"14px\" font-family=\"Arial\">ZZ^(zz1-0)</text><rect x=\"1196.4874218750003\" y=\"5.0\" width=\"87.56656250000002\" height=\"40\" stroke=\"black\" fill=\"white\" stroke-width=\"1\" /><text x=\"1240.2707031250004\" y=\"25.0\" dominant-baseline=\"middle\" text-anchor=\"middle\" font-size=\"14px\" font-family=\"Arial\">ZZ</text><rect x=\"1304.0539843750003\" y=\"105.0\" width=\"87.56656250000002\" height=\"40\" stroke=\"black\" fill=\"white\" stroke-width=\"1\" /><text x=\"1347.8372656250003\" y=\"125.0\" dominant-baseline=\"middle\" text-anchor=\"middle\" font-size=\"14px\" font-family=\"Arial\">ZZ^(zz1-1)</text><rect x=\"1304.0539843750003\" y=\"5.0\" width=\"87.56656250000002\" height=\"40\" stroke=\"black\" fill=\"white\" stroke-width=\"1\" /><text x=\"1347.8372656250003\" y=\"25.0\" dominant-baseline=\"middle\" text-anchor=\"middle\" font-size=\"14px\" font-family=\"Arial\">ZZ</text><rect x=\"1411.6205468750002\" y=\"155.0\" width=\"87.56656250000002\" height=\"40\" stroke=\"black\" fill=\"white\" stroke-width=\"1\" /><text x=\"1455.4038281250002\" y=\"175.0\" dominant-baseline=\"middle\" text-anchor=\"middle\" font-size=\"14px\" font-family=\"Arial\">ZZ^(zz1-2)</text><rect x=\"1411.6205468750002\" y=\"5.0\" width=\"87.56656250000002\" height=\"40\" stroke=\"black\" fill=\"white\" stroke-width=\"1\" /><text x=\"1455.4038281250002\" y=\"25.0\" dominant-baseline=\"middle\" text-anchor=\"middle\" font-size=\"14px\" font-family=\"Arial\">ZZ</text><rect x=\"1519.187109375\" y=\"205.0\" width=\"87.56656250000002\" height=\"40\" stroke=\"black\" fill=\"white\" stroke-width=\"1\" /><text x=\"1562.9703906250002\" y=\"225.0\" dominant-baseline=\"middle\" text-anchor=\"middle\" font-size=\"14px\" font-family=\"Arial\">ZZ^(zz1-3)</text><rect x=\"1519.187109375\" y=\"5.0\" width=\"87.56656250000002\" height=\"40\" stroke=\"black\" fill=\"white\" stroke-width=\"1\" /><text x=\"1562.9703906250002\" y=\"25.0\" dominant-baseline=\"middle\" text-anchor=\"middle\" font-size=\"14px\" font-family=\"Arial\">ZZ</text><rect x=\"1626.753671875\" y=\"255.0\" width=\"87.56656250000002\" height=\"40\" stroke=\"black\" fill=\"white\" stroke-width=\"1\" /><text x=\"1670.536953125\" y=\"275.0\" dominant-baseline=\"middle\" text-anchor=\"middle\" font-size=\"14px\" font-family=\"Arial\">ZZ^(zz1-4)</text><rect x=\"1626.753671875\" y=\"5.0\" width=\"87.56656250000002\" height=\"40\" stroke=\"black\" fill=\"white\" stroke-width=\"1\" /><text x=\"1670.536953125\" y=\"25.0\" dominant-baseline=\"middle\" text-anchor=\"middle\" font-size=\"14px\" font-family=\"Arial\">ZZ</text><rect x=\"1734.320234375\" y=\"305.0\" width=\"87.56656250000002\" height=\"40\" stroke=\"black\" fill=\"white\" stroke-width=\"1\" /><text x=\"1778.103515625\" y=\"325.0\" dominant-baseline=\"middle\" text-anchor=\"middle\" font-size=\"14px\" font-family=\"Arial\">ZZ^(zz1-5)</text><rect x=\"1734.320234375\" y=\"5.0\" width=\"87.56656250000002\" height=\"40\" stroke=\"black\" fill=\"white\" stroke-width=\"1\" /><text x=\"1778.103515625\" y=\"25.0\" dominant-baseline=\"middle\" text-anchor=\"middle\" font-size=\"14px\" font-family=\"Arial\">ZZ</text><rect x=\"1841.8867968749998\" y=\"355.0\" width=\"87.56656250000002\" height=\"40\" stroke=\"black\" fill=\"white\" stroke-width=\"1\" /><text x=\"1885.670078125\" y=\"375.0\" dominant-baseline=\"middle\" text-anchor=\"middle\" font-size=\"14px\" font-family=\"Arial\">ZZ^(zz1-6)</text><rect x=\"1841.8867968749998\" y=\"5.0\" width=\"87.56656250000002\" height=\"40\" stroke=\"black\" fill=\"white\" stroke-width=\"1\" /><text x=\"1885.670078125\" y=\"25.0\" dominant-baseline=\"middle\" text-anchor=\"middle\" font-size=\"14px\" font-family=\"Arial\">ZZ</text><rect x=\"1949.4533593749998\" y=\"405.0\" width=\"87.56656250000002\" height=\"40\" stroke=\"black\" fill=\"white\" stroke-width=\"1\" /><text x=\"1993.2366406249998\" y=\"425.0\" dominant-baseline=\"middle\" text-anchor=\"middle\" font-size=\"14px\" font-family=\"Arial\">ZZ^(zz1-7)</text><rect x=\"1949.4533593749998\" y=\"5.0\" width=\"87.56656250000002\" height=\"40\" stroke=\"black\" fill=\"white\" stroke-width=\"1\" /><text x=\"1993.2366406249998\" y=\"25.0\" dominant-baseline=\"middle\" text-anchor=\"middle\" font-size=\"14px\" font-family=\"Arial\">ZZ</text><rect x=\"2057.0199218749995\" y=\"455.0\" width=\"87.56656250000002\" height=\"40\" stroke=\"black\" fill=\"white\" stroke-width=\"1\" /><text x=\"2100.8032031249995\" y=\"475.0\" dominant-baseline=\"middle\" text-anchor=\"middle\" font-size=\"14px\" font-family=\"Arial\">ZZ^(zz1-8)</text><rect x=\"2057.0199218749995\" y=\"5.0\" width=\"87.56656250000002\" height=\"40\" stroke=\"black\" fill=\"white\" stroke-width=\"1\" /><text x=\"2100.8032031249995\" y=\"25.0\" dominant-baseline=\"middle\" text-anchor=\"middle\" font-size=\"14px\" font-family=\"Arial\">ZZ</text><rect x=\"2164.5864843749996\" y=\"5.0\" width=\"40\" height=\"40\" stroke=\"black\" fill=\"white\" stroke-width=\"1\" /><text x=\"2184.5864843749996\" y=\"25.0\" dominant-baseline=\"middle\" text-anchor=\"middle\" font-size=\"18px\" font-family=\"Arial\">H</text></svg>"
          },
          "metadata": {
            "tags": []
          },
<<<<<<< HEAD
          "execution_count": 19
=======
          "execution_count": 18
>>>>>>> QNN modelleri duzenlendi
        }
      ]
    },
    {
      "cell_type": "code",
      "metadata": {
        "id": "KE-TQ5gaewBP"
      },
      "source": [
        "# Keras modelimizi oluşturalım.\n",
        "model = tf.keras.Sequential([\n",
        "    # Girdi resim devremizdir.\n",
        "    tf.keras.layers.Input(shape=(), dtype=tf.string),\n",
        "    # PQC katmanı readout kapısının beklenen değerini [-1,1] aralığında döndürür.\n",
        "    tfq.layers.PQC(model_circuit, model_readout),\n",
        "])"
      ],
<<<<<<< HEAD
      "execution_count": 20,
=======
      "execution_count": 19,
>>>>>>> QNN modelleri duzenlendi
      "outputs": []
    },
    {
      "cell_type": "code",
      "metadata": {
        "id": "OTIljSffva3e"
      },
      "source": [
        "# Hinge accurasy kullanacağımız için etiketlerimizi -1 ve 1 aralığına çevirelim.\n",
        "y_train_hinge = 2.0*y_train-1.0\n",
        "y_test_hinge = 2.0*y_test-1.0"
      ],
<<<<<<< HEAD
      "execution_count": 21,
=======
      "execution_count": 20,
>>>>>>> QNN modelleri duzenlendi
      "outputs": []
    },
    {
      "cell_type": "code",
      "metadata": {
        "id": "N3PAc--rfdB7"
      },
      "source": [
        "def hinge_accuracy(y_true, y_pred):\n",
        "    y_true = tf.squeeze(y_true) > 0.0\n",
        "    y_pred = tf.squeeze(y_pred) > 0.0\n",
        "    result = tf.cast(y_true == y_pred, tf.float32)\n",
        "\n",
        "    return tf.reduce_mean(result)"
      ],
<<<<<<< HEAD
      "execution_count": 22,
=======
      "execution_count": 21,
>>>>>>> QNN modelleri duzenlendi
      "outputs": []
    },
    {
      "cell_type": "markdown",
      "metadata": {
        "id": "gpnHCpbF0Eyb"
      },
      "source": [
        "# 5) Modelin Derlenmesi"
      ]
    },
    {
      "cell_type": "code",
      "metadata": {
        "id": "VS45OdbLfuFf"
      },
      "source": [
        "# modelimizi kayıp fonksiyonu olarak Hinge ve optimizer olarak Adam algortimasını seçerek derleyelim.\n",
        "model.compile(\n",
        "    loss=tf.keras.losses.Hinge(),\n",
        "    optimizer=tf.keras.optimizers.Adam(),\n",
        "    metrics=[hinge_accuracy])"
      ],
<<<<<<< HEAD
      "execution_count": 23,
=======
      "execution_count": 22,
>>>>>>> QNN modelleri duzenlendi
      "outputs": []
    },
    {
      "cell_type": "code",
      "metadata": {
        "id": "HlU30Q7VfwLe",
<<<<<<< HEAD
        "outputId": "aa41dcfa-1056-45e5-a3fa-1c09b7f94775",
        "colab": {
          "base_uri": "https://localhost:8080/",
          "height": 204
=======
        "outputId": "898b855e-90a6-4e80-acf2-e8d986202635",
        "colab": {
          "base_uri": "https://localhost:8080/",
          "height": 208
>>>>>>> QNN modelleri duzenlendi
        }
      },
      "source": [
        "print(model.summary())"
      ],
<<<<<<< HEAD
      "execution_count": 24,
=======
      "execution_count": 23,
>>>>>>> QNN modelleri duzenlendi
      "outputs": [
        {
          "output_type": "stream",
          "text": [
            "Model: \"sequential\"\n",
            "_________________________________________________________________\n",
            "Layer (type)                 Output Shape              Param #   \n",
            "=================================================================\n",
            "pqc (PQC)                    (None, 1)                 18        \n",
            "=================================================================\n",
            "Total params: 18\n",
            "Trainable params: 18\n",
            "Non-trainable params: 0\n",
            "_________________________________________________________________\n",
            "None\n"
          ],
          "name": "stdout"
        }
      ]
    },
    {
      "cell_type": "markdown",
      "metadata": {
        "id": "_vMD7dxB0Otq"
      },
      "source": [
        "# 6) Modelin Eğitilmesi"
      ]
    },
    {
      "cell_type": "code",
      "metadata": {
        "id": "RuS-AK5ogAHp"
      },
      "source": [
        "# Modelimizi eğitirken kullanacağımız parametreleri belirleyelim.\n",
        "\n",
        "EPOCHS = 3\n",
        "BATCH_SIZE = 32\n",
        "\n",
        "# Modele resimleri dönüştürdüğümüz devrelerin tensör hallerini vereceğiz.\n",
        "# Bundan dolayı tüm verisetini kullanmak için onun uzunluğunu alacağız. \n",
        "NUM_EXAMPLES = len(x_train_tfcirc) "
      ],
<<<<<<< HEAD
      "execution_count": 25,
=======
      "execution_count": 24,
>>>>>>> QNN modelleri duzenlendi
      "outputs": []
    },
    {
      "cell_type": "code",
      "metadata": {
        "id": "_SCpWDySgDKu"
      },
      "source": [
        "x_train_tfcirc_sub = x_train_tfcirc[:NUM_EXAMPLES]\n",
        "y_train_hinge_sub = y_train_hinge[:NUM_EXAMPLES]"
      ],
<<<<<<< HEAD
      "execution_count": 26,
=======
      "execution_count": 25,
>>>>>>> QNN modelleri duzenlendi
      "outputs": []
    },
    {
      "cell_type": "code",
      "metadata": {
        "id": "Dl0kGaw3gEDi"
      },
      "source": [
        "# Model eğitiminin ne kadar süreceğini ölçmek için eğitimden önce zamanı kaydedelim.\n",
        "import time\n",
        "start_time = time.time()"
      ],
<<<<<<< HEAD
      "execution_count": 27,
=======
      "execution_count": 26,
>>>>>>> QNN modelleri duzenlendi
      "outputs": []
    },
    {
      "cell_type": "code",
      "metadata": {
        "id": "zEF5z5xigE2I",
<<<<<<< HEAD
        "outputId": "83e097bc-a4b7-4832-e02b-72967e272cdd",
        "colab": {
          "base_uri": "https://localhost:8080/",
          "height": 136
=======
        "outputId": "61b3485f-909f-4d4f-dfb6-413ede872c7a",
        "colab": {
          "base_uri": "https://localhost:8080/",
          "height": 138
>>>>>>> QNN modelleri duzenlendi
        }
      },
      "source": [
        "qnn_history = model.fit(\n",
        "      x_train_tfcirc_sub, y_train_hinge_sub,\n",
        "      batch_size=BATCH_SIZE,\n",
        "      epochs=EPOCHS,\n",
        "      verbose=1,\n",
        "      validation_data=(x_test_tfcirc, y_test_hinge))\n",
        "\n",
        "qnn_results = model.evaluate(x_test_tfcirc, y_test)"
      ],
<<<<<<< HEAD
      "execution_count": 28,
=======
      "execution_count": 27,
>>>>>>> QNN modelleri duzenlendi
      "outputs": [
        {
          "output_type": "stream",
          "text": [
            "Epoch 1/3\n",
<<<<<<< HEAD
            "377/377 [==============================] - 13s 34ms/step - loss: 0.5927 - hinge_accuracy: 0.7973 - val_loss: 0.3751 - val_hinge_accuracy: 0.8311\n",
            "Epoch 2/3\n",
            "377/377 [==============================] - 13s 34ms/step - loss: 0.3834 - hinge_accuracy: 0.8110 - val_loss: 0.3536 - val_hinge_accuracy: 0.8241\n",
            "Epoch 3/3\n",
            "377/377 [==============================] - 13s 34ms/step - loss: 0.3780 - hinge_accuracy: 0.8100 - val_loss: 0.3534 - val_hinge_accuracy: 0.8317\n",
            "62/62 [==============================] - 1s 16ms/step - loss: 0.3534 - hinge_accuracy: 0.8317\n"
=======
            "377/377 [==============================] - 9s 24ms/step - loss: 0.7451 - hinge_accuracy: 0.6660 - val_loss: 0.4847 - val_hinge_accuracy: 0.7848\n",
            "Epoch 2/3\n",
            "377/377 [==============================] - 9s 24ms/step - loss: 0.4150 - hinge_accuracy: 0.8107 - val_loss: 0.3460 - val_hinge_accuracy: 0.8332\n",
            "Epoch 3/3\n",
            "377/377 [==============================] - 9s 24ms/step - loss: 0.3681 - hinge_accuracy: 0.8189 - val_loss: 0.3385 - val_hinge_accuracy: 0.8317\n",
            "62/62 [==============================] - 1s 11ms/step - loss: 0.3385 - hinge_accuracy: 0.8317\n"
>>>>>>> QNN modelleri duzenlendi
          ],
          "name": "stdout"
        }
      ]
    },
    {
      "cell_type": "code",
      "metadata": {
        "id": "KblYDvqegFy4",
<<<<<<< HEAD
        "outputId": "c5e42f78-33dc-41b0-bd2b-73d4edd44b1b",
=======
        "outputId": "c256e796-e450-4586-cc9d-22ed924d1353",
>>>>>>> QNN modelleri duzenlendi
        "colab": {
          "base_uri": "https://localhost:8080/",
          "height": 34
        }
      },
      "source": [
        "# Başlangıçtaki zamana bakarak eğitimin kaç saniye sürdüğünü yazdıralım.\n",
        "print(f\"Model eğitimi {time.time() - start_time} saniye sürdü.\")"
      ],
<<<<<<< HEAD
      "execution_count": 29,
=======
      "execution_count": 28,
>>>>>>> QNN modelleri duzenlendi
      "outputs": [
        {
          "output_type": "stream",
          "text": [
<<<<<<< HEAD
            "Model eğitimi 40.53106164932251 saniye sürdü.\n"
=======
            "Model eğitimi 28.60657024383545 saniye sürdü.\n"
>>>>>>> QNN modelleri duzenlendi
          ],
          "name": "stdout"
        }
      ]
    },
    {
      "cell_type": "code",
      "metadata": {
        "id": "90dIsszmgG7j",
<<<<<<< HEAD
        "outputId": "8fcd310f-61ea-42b5-e932-d73cc1e52cba",
=======
        "outputId": "9f6b554f-09f8-4c5c-f868-d20372f11209",
>>>>>>> QNN modelleri duzenlendi
        "colab": {
          "base_uri": "https://localhost:8080/",
          "height": 34
        }
      },
      "source": [
        "# Modelimizin doğruluğuna baktığımızda 0.84 civarı olduğunu görebiliriz.\n",
        "qnn_accuracy = qnn_results[1]\n",
        "qnn_accuracy"
      ],
<<<<<<< HEAD
      "execution_count": 30,
=======
      "execution_count": 29,
>>>>>>> QNN modelleri duzenlendi
      "outputs": [
        {
          "output_type": "execute_result",
          "data": {
            "text/plain": [
              "0.8316532373428345"
            ]
          },
          "metadata": {
            "tags": []
          },
<<<<<<< HEAD
          "execution_count": 30
=======
          "execution_count": 29
>>>>>>> QNN modelleri duzenlendi
        }
      ]
    },
    {
      "cell_type": "markdown",
      "metadata": {
        "id": "_0NJMexj0VmC"
      },
      "source": [
        "# 7) Değerlendirme"
      ]
    },
    {
      "cell_type": "code",
      "metadata": {
        "id": "VD5Iws_BgQDk",
<<<<<<< HEAD
        "outputId": "e1c09f1f-7fb1-470d-85cc-b15459913abb",
        "colab": {
          "base_uri": "https://localhost:8080/",
          "height": 279
=======
        "outputId": "b1311696-7948-4dd8-802d-6e41d615479d",
        "colab": {
          "base_uri": "https://localhost:8080/",
          "height": 278
>>>>>>> QNN modelleri duzenlendi
        }
      },
      "source": [
        "plt.plot(qnn_history.history['hinge_accuracy'], label='QNN')\n",
        "plt.xticks([0, 1, 2], [1,2,3])\n",
        "plt.yticks(np.linspace(qnn_history.history['hinge_accuracy'][0], qnn_history.history['hinge_accuracy'][-1], 5))\n",
        "plt.xlabel('Epoch')\n",
        "plt.legend()\n",
        "plt.ylabel('Validation Accuracy')\n",
        "plt.show()"
      ],
<<<<<<< HEAD
      "execution_count": 31,
=======
      "execution_count": 30,
>>>>>>> QNN modelleri duzenlendi
      "outputs": [
        {
          "output_type": "display_data",
          "data": {
<<<<<<< HEAD
            "image/png": "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\n",
=======
            "image/png": "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\n",
>>>>>>> QNN modelleri duzenlendi
            "text/plain": [
              "<Figure size 432x288 with 1 Axes>"
            ]
          },
          "metadata": {
            "tags": [],
            "needs_background": "light"
          }
        }
      ]
    },
    {
      "cell_type": "code",
      "metadata": {
        "id": "DfJk42ELjc2u",
<<<<<<< HEAD
        "outputId": "1fbc5be5-50bd-4655-8459-4020851dd9fa",
        "colab": {
          "base_uri": "https://localhost:8080/",
          "height": 895
=======
        "outputId": "90941df8-1ca2-403b-84ba-a2e43d543cc8",
        "colab": {
          "base_uri": "https://localhost:8080/",
          "height": 1000
>>>>>>> QNN modelleri duzenlendi
        }
      },
      "source": [
        "import random\n",
        "\n",
        "ilk_indeks = random.randint(0, NUM_EXAMPLES-10)\n",
        "print(ilk_indeks)\n",
        "\n",
<<<<<<< HEAD
        "fig = plt.figure(figsize=(12, 12))\n",
        "\n",
        "gs = GridSpec(3, 3, figure=fig)\n",
        "ax1 = fig.add_subplot(gs[0, 0])\n",
        "\n",
        "for i in range(3):\n",
        "  for j in range(3):\n",
=======
        "fig = plt.figure(figsize=(15, 15))\n",
        "\n",
        "gs = GridSpec(3, 5, figure=fig)\n",
        "ax1 = fig.add_subplot(gs[0, 0])\n",
        "\n",
        "for i in range(3):\n",
        "  for j in range(5):\n",
>>>>>>> QNN modelleri duzenlendi
        "    ax = fig.add_subplot(gs[i, j])\n",
        "    ax.title.set_text(\"Tahmin: \" + (\"3\" if model.predict_classes(x_train_tfcirc[(2*i+j+ilk_indeks):(2*i+j+ilk_indeks+1)])[0][0] == 1 else \"6\"))\n",
        "    ax.tick_params(labelbottom=False, labelleft=False)\n",
        "    ax.imshow(x_train[2*i+j+ilk_indeks, :, :, 0], cmap=plt.get_cmap(\"binary\"))\n",
        "\n",
        "fig.suptitle(\"Tahmin Örnekleri\")\n",
        "\n",
        "plt.show()"
      ],
<<<<<<< HEAD
      "execution_count": 32,
=======
      "execution_count": 31,
>>>>>>> QNN modelleri duzenlendi
      "outputs": [
        {
          "output_type": "stream",
          "text": [
<<<<<<< HEAD
            "3854\n",
            "WARNING:tensorflow:From <ipython-input-32-e6e6bb87a3f0>:14: Sequential.predict_classes (from tensorflow.python.keras.engine.sequential) is deprecated and will be removed after 2021-01-01.\n",
=======
            "11562\n",
            "WARNING:tensorflow:From <ipython-input-31-e90173b942fd>:14: Sequential.predict_classes (from tensorflow.python.keras.engine.sequential) is deprecated and will be removed after 2021-01-01.\n",
>>>>>>> QNN modelleri duzenlendi
            "Instructions for updating:\n",
            "Please use instead:* `np.argmax(model.predict(x), axis=-1)`,   if your model does multi-class classification   (e.g. if it uses a `softmax` last-layer activation).* `(model.predict(x) > 0.5).astype(\"int32\")`,   if your model does binary classification   (e.g. if it uses a `sigmoid` last-layer activation).\n"
          ],
          "name": "stdout"
        },
        {
          "output_type": "stream",
          "text": [
            "/usr/local/lib/python3.6/dist-packages/ipykernel_launcher.py:13: MatplotlibDeprecationWarning: Adding an axes using the same arguments as a previous axes currently reuses the earlier instance.  In a future version, a new instance will always be created and returned.  Meanwhile, this warning can be suppressed, and the future behavior ensured, by passing a unique label to each axes instance.\n",
            "  del sys.path[0]\n"
          ],
          "name": "stderr"
        },
        {
          "output_type": "display_data",
          "data": {
<<<<<<< HEAD
            "image/png": "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\n",
            "text/plain": [
              "<Figure size 864x864 with 9 Axes>"
=======
            "image/png": "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\n",
            "text/plain": [
              "<Figure size 1080x1080 with 15 Axes>"
>>>>>>> QNN modelleri duzenlendi
            ]
          },
          "metadata": {
            "tags": []
          }
        }
      ]
    },
    {
      "cell_type": "code",
      "metadata": {
<<<<<<< HEAD
        "id": "OAug_B17Zn8N"
=======
        "id": "mRX8pK-06rwl"
>>>>>>> QNN modelleri duzenlendi
      },
      "source": [
        ""
      ],
<<<<<<< HEAD
      "execution_count": null,
=======
      "execution_count": 31,
>>>>>>> QNN modelleri duzenlendi
      "outputs": []
    }
  ]
}